{
 "cells": [
  {
   "cell_type": "markdown",
   "metadata": {},
   "source": [
    "# Challenge 1"
   ]
  },
  {
   "cell_type": "code",
   "execution_count": 133,
   "metadata": {},
   "outputs": [],
   "source": [
    "import nltk"
   ]
  },
  {
   "cell_type": "code",
   "execution_count": 134,
   "metadata": {},
   "outputs": [
    {
     "name": "stderr",
     "output_type": "stream",
     "text": [
      "[nltk_data] Downloading package brown to /Users/pablo/nltk_data...\n",
      "[nltk_data]   Package brown is already up-to-date!\n"
     ]
    },
    {
     "data": {
      "text/plain": [
       "True"
      ]
     },
     "execution_count": 134,
     "metadata": {},
     "output_type": "execute_result"
    }
   ],
   "source": [
    "from nltk.corpus import brown\n",
    "nltk.download(\"brown\")"
   ]
  },
  {
   "cell_type": "code",
   "execution_count": 135,
   "metadata": {},
   "outputs": [
    {
     "data": {
      "text/plain": [
       "['The',\n",
       " 'Fulton',\n",
       " 'County',\n",
       " 'Grand',\n",
       " 'Jury',\n",
       " 'said',\n",
       " 'Friday',\n",
       " 'an',\n",
       " 'investigation',\n",
       " 'of']"
      ]
     },
     "execution_count": 135,
     "metadata": {},
     "output_type": "execute_result"
    }
   ],
   "source": [
    "brown.words()[0:10]"
   ]
  },
  {
   "cell_type": "code",
   "execution_count": 136,
   "metadata": {},
   "outputs": [
    {
     "data": {
      "text/plain": [
       "[('The', 'AT'),\n",
       " ('Fulton', 'NP-TL'),\n",
       " ('County', 'NN-TL'),\n",
       " ('Grand', 'JJ-TL'),\n",
       " ('Jury', 'NN-TL'),\n",
       " ('said', 'VBD'),\n",
       " ('Friday', 'NR'),\n",
       " ('an', 'AT'),\n",
       " ('investigation', 'NN'),\n",
       " ('of', 'IN')]"
      ]
     },
     "execution_count": 136,
     "metadata": {},
     "output_type": "execute_result"
    }
   ],
   "source": [
    "brown.tagged_words()[0:10]"
   ]
  },
  {
   "cell_type": "code",
   "execution_count": 137,
   "metadata": {},
   "outputs": [],
   "source": [
    "text = 'Ironhack is a Global Tech School ranked num 2 worldwide.  ",
    " ",
    "Our mission is to help people transform their careers and join a thriving community of tech professionals that love what they do. This ideology is reflected in our teaching practices, which consist of a nine-weeks immersive programming, UX/UI design or Data Analytics course as well as a one-week hiring fair aimed at helping our students change their career and get a job straight after the course. We are present in 8 countries and have campuses in 9 locations - Madrid, Barcelona, Miami, Paris, Mexico City,  Berlin, Amsterdam, Sao Paulo and Lisbon.'"
   ]
  },
  {
   "cell_type": "code",
   "execution_count": 138,
   "metadata": {},
   "outputs": [
    {
     "name": "stderr",
     "output_type": "stream",
     "text": [
      "[nltk_data] Downloading package punkt to /Users/pablo/nltk_data...\n",
      "[nltk_data]   Package punkt is already up-to-date!\n"
     ]
    },
    {
     "data": {
      "text/plain": [
       "True"
      ]
     },
     "execution_count": 138,
     "metadata": {},
     "output_type": "execute_result"
    }
   ],
   "source": [
    "from nltk import sent_tokenize, word_tokenize\n",
    "nltk.download('punkt')"
   ]
  },
  {
   "cell_type": "code",
   "execution_count": 139,
   "metadata": {},
   "outputs": [
    {
     "data": {
      "text/plain": [
       "['Ironhack is a Global Tech School ranked num 2 worldwide.',\n",
       " 'Our mission is to help people transform their careers and join a thriving community of tech professionals that love what they do.',\n",
       " 'This ideology is reflected in our teaching practices, which consist of a nine-weeks immersive programming, UX/UI design or Data Analytics course as well as a one-week hiring fair aimed at helping our students change their career and get a job straight after the course.',\n",
       " 'We are present in 8 countries and have campuses in 9 locations - Madrid, Barcelona, Miami, Paris, Mexico City,  Berlin, Amsterdam, Sao Paulo and Lisbon.']"
      ]
     },
     "execution_count": 139,
     "metadata": {},
     "output_type": "execute_result"
    }
   ],
   "source": [
    "sent_tokenize(text)"
   ]
  },
  {
   "cell_type": "code",
   "execution_count": 140,
   "metadata": {},
   "outputs": [
    {
     "data": {
      "text/plain": [
       "['Ironhack',\n",
       " 'is',\n",
       " 'a',\n",
       " 'Global',\n",
       " 'Tech',\n",
       " 'School',\n",
       " 'ranked',\n",
       " 'num',\n",
       " '2',\n",
       " 'worldwide',\n",
       " '.',\n",
       " 'Our',\n",
       " 'mission',\n",
       " 'is',\n",
       " 'to',\n",
       " 'help',\n",
       " 'people',\n",
       " 'transform',\n",
       " 'their',\n",
       " 'careers',\n",
       " 'and',\n",
       " 'join',\n",
       " 'a',\n",
       " 'thriving',\n",
       " 'community',\n",
       " 'of',\n",
       " 'tech',\n",
       " 'professionals',\n",
       " 'that',\n",
       " 'love',\n",
       " 'what',\n",
       " 'they',\n",
       " 'do',\n",
       " '.',\n",
       " 'This',\n",
       " 'ideology',\n",
       " 'is',\n",
       " 'reflected',\n",
       " 'in',\n",
       " 'our',\n",
       " 'teaching',\n",
       " 'practices',\n",
       " ',',\n",
       " 'which',\n",
       " 'consist',\n",
       " 'of',\n",
       " 'a',\n",
       " 'nine-weeks',\n",
       " 'immersive',\n",
       " 'programming',\n",
       " ',',\n",
       " 'UX/UI',\n",
       " 'design',\n",
       " 'or',\n",
       " 'Data',\n",
       " 'Analytics',\n",
       " 'course',\n",
       " 'as',\n",
       " 'well',\n",
       " 'as',\n",
       " 'a',\n",
       " 'one-week',\n",
       " 'hiring',\n",
       " 'fair',\n",
       " 'aimed',\n",
       " 'at',\n",
       " 'helping',\n",
       " 'our',\n",
       " 'students',\n",
       " 'change',\n",
       " 'their',\n",
       " 'career',\n",
       " 'and',\n",
       " 'get',\n",
       " 'a',\n",
       " 'job',\n",
       " 'straight',\n",
       " 'after',\n",
       " 'the',\n",
       " 'course',\n",
       " '.',\n",
       " 'We',\n",
       " 'are',\n",
       " 'present',\n",
       " 'in',\n",
       " '8',\n",
       " 'countries',\n",
       " 'and',\n",
       " 'have',\n",
       " 'campuses',\n",
       " 'in',\n",
       " '9',\n",
       " 'locations',\n",
       " '-',\n",
       " 'Madrid',\n",
       " ',',\n",
       " 'Barcelona',\n",
       " ',',\n",
       " 'Miami',\n",
       " ',',\n",
       " 'Paris',\n",
       " ',',\n",
       " 'Mexico',\n",
       " 'City',\n",
       " ',',\n",
       " 'Berlin',\n",
       " ',',\n",
       " 'Amsterdam',\n",
       " ',',\n",
       " 'Sao',\n",
       " 'Paulo',\n",
       " 'and',\n",
       " 'Lisbon',\n",
       " '.']"
      ]
     },
     "execution_count": 140,
     "metadata": {},
     "output_type": "execute_result"
    }
   ],
   "source": [
    "word_tokenize(text)"
   ]
  },
  {
   "cell_type": "markdown",
   "metadata": {},
   "source": [
    "# Challenge 2"
   ]
  },
  {
   "cell_type": "code",
   "execution_count": 141,
   "metadata": {},
   "outputs": [],
   "source": [
    "'''\n",
    "ironhack s  q website  is\n",
    "'''\n",
    "s = \"@Ironhack's-#Q website 776-is http://ironhack.com [(2018)]\""
   ]
  },
  {
   "cell_type": "code",
   "execution_count": 142,
   "metadata": {},
   "outputs": [
    {
     "data": {
      "text/plain": [
       "'ironhack s q website is'"
      ]
     },
     "execution_count": 142,
     "metadata": {},
     "output_type": "execute_result"
    }
   ],
   "source": [
    "def clean_up(s):\n",
    "    import re\n",
    "    \"\"\"\n",
    "    Cleans up numbers, URLs, and special characters from a string.\n",
    "\n",
    "    Args:\n",
    "        s: The string to be cleaned up.\n",
    "\n",
    "    Returns:\n",
    "        A string that has been cleaned up.\n",
    "    \"\"\"\n",
    "    s = re.sub(\"https?://(?:[-\\w.]|(?:%[\\da-fA-F]{2}))+\", ' ', s)\n",
    "    s = re.sub('\\d+', ' ', s)\n",
    "    s = re.sub('\\W+', ' ', s)\n",
    "    s = re.sub('_', ' ', s)\n",
    "    return s.lower().strip()\n",
    "clean_up(s)"
   ]
  },
  {
   "cell_type": "code",
   "execution_count": 143,
   "metadata": {},
   "outputs": [],
   "source": [
    "def tokenize(s):\n",
    "    from nltk import word_tokenize\n",
    "    \"\"\"\n",
    "    Tokenize a string.\n",
    "\n",
    "    Args:\n",
    "        s: String to be tokenized.\n",
    "\n",
    "    Returns:\n",
    "        A list of words as the result of tokenization.\n",
    "    \"\"\"\n",
    "    return word_tokenize(clean_up(s))"
   ]
  },
  {
   "cell_type": "code",
   "execution_count": 144,
   "metadata": {},
   "outputs": [
    {
     "data": {
      "text/plain": [
       "'be'"
      ]
     },
     "execution_count": 144,
     "metadata": {},
     "output_type": "execute_result"
    }
   ],
   "source": [
    "import nltk\n",
    "from nltk.stem import WordNetLemmatizer\n",
    "from nltk.stem import PorterStemmer\n",
    "from nltk.stem import SnowballStemmer\n",
    "nltk.download('wordnet', \"porter\", \"snowball\", \"stopwords\")\n",
    "lemmatizer = WordNetLemmatizer()\n",
    "lemmatizer.lemmatize('was')\n",
    "lemmatizer.lemmatize('was', pos='v')\n"
   ]
  },
  {
   "cell_type": "code",
   "execution_count": 145,
   "metadata": {},
   "outputs": [
    {
     "name": "stdout",
     "output_type": "stream",
     "text": [
      "['ironhack', 's', 'q', 'websit', 'is']\n"
     ]
    }
   ],
   "source": [
    "def stem_and_lemmatize(s):\n",
    "    from nltk.stem import WordNetLemmatizer\n",
    "    from nltk.stem import SnowballStemmer\n",
    "    \"\"\"\n",
    "    Perform stemming and lemmatization on a list of words.\n",
    "\n",
    "    Args:\n",
    "        l: A list of strings.\n",
    "\n",
    "    Returns:\n",
    "        A list of strings after being stemmed and lemmatized.\n",
    "    \"\"\"\n",
    "    return [WordNetLemmatizer().lemmatize(SnowballStemmer(\"english\").stem(x)) for x in tokenize(s)]\n",
    "    \n",
    "print(stem_and_lemmatize(s))"
   ]
  },
  {
   "cell_type": "code",
   "execution_count": 146,
   "metadata": {},
   "outputs": [
    {
     "name": "stdout",
     "output_type": "stream",
     "text": [
      "['ironhack', 'q', 'websit']\n"
     ]
    }
   ],
   "source": [
    "def remove_stopwords(s):\n",
    "    from nltk.corpus import stopwords\n",
    "    \"\"\"\n",
    "    Remove English stopwords from a list of strings.\n",
    "\n",
    "    Args:\n",
    "        l: A list of strings.\n",
    "\n",
    "    Returns:\n",
    "        A list of strings after stop words are removed.\n",
    "    \"\"\"\n",
    "    stop_words = stopwords.words('english')\n",
    "    return [w for w in stem_and_lemmatize(s) if not w in stop_words]\n",
    "\n",
    "print(remove_stopwords(s))"
   ]
  },
  {
   "cell_type": "markdown",
   "metadata": {},
   "source": [
    "# Challenge 3"
   ]
  },
  {
   "cell_type": "code",
   "execution_count": 147,
   "metadata": {},
   "outputs": [
    {
     "name": "stderr",
     "output_type": "stream",
     "text": [
      "[nltk_data] Downloading package vader_lexicon to\n",
      "[nltk_data]     /Users/pablo/nltk_data...\n",
      "[nltk_data]   Package vader_lexicon is already up-to-date!\n"
     ]
    },
    {
     "data": {
      "text/plain": [
       "{'neg': 0.0, 'neu': 0.741, 'pos': 0.259, 'compound': 0.8442}"
      ]
     },
     "execution_count": 147,
     "metadata": {},
     "output_type": "execute_result"
    }
   ],
   "source": [
    "from nltk.sentiment.vader import SentimentIntensityAnalyzer\n",
    "nltk.download('vader_lexicon')\n",
    "txt = \"Ironhack is a Global Tech School ranked num 2 worldwide.  ",
    " ",
    "Our mission is to help people transform their careers and join a thriving community of tech professionals that love what they do.\"\n",
    "analyzer = SentimentIntensityAnalyzer()\n",
    "analyzer.polarity_scores(txt)\n"
   ]
  },
  {
   "cell_type": "code",
   "execution_count": 148,
   "metadata": {},
   "outputs": [],
   "source": [
    "import pandas as pd\n",
    "import numpy as np"
   ]
  },
  {
   "cell_type": "code",
   "execution_count": 149,
   "metadata": {},
   "outputs": [],
   "source": [
    "df = pd.read_csv(\"Sentiment140.csv\")\n",
    "df_sample = df.sample(n=20000)"
   ]
  },
  {
   "cell_type": "code",
   "execution_count": 150,
   "metadata": {},
   "outputs": [
    {
     "data": {
      "text/html": [
       "<div>\n",
       "<style scoped>\n",
       "    .dataframe tbody tr th:only-of-type {\n",
       "        vertical-align: middle;\n",
       "    }\n",
       "\n",
       "    .dataframe tbody tr th {\n",
       "        vertical-align: top;\n",
       "    }\n",
       "\n",
       "    .dataframe thead th {\n",
       "        text-align: right;\n",
       "    }\n",
       "</style>\n",
       "<table border=\"1\" class=\"dataframe\">\n",
       "  <thead>\n",
       "    <tr style=\"text-align: right;\">\n",
       "      <th></th>\n",
       "      <th>target</th>\n",
       "      <th>id</th>\n",
       "      <th>date</th>\n",
       "      <th>flag</th>\n",
       "      <th>user</th>\n",
       "      <th>text</th>\n",
       "    </tr>\n",
       "  </thead>\n",
       "  <tbody>\n",
       "    <tr>\n",
       "      <th>410523</th>\n",
       "      <td>0</td>\n",
       "      <td>2059893874</td>\n",
       "      <td>Sat Jun 06 17:51:02 PDT 2009</td>\n",
       "      <td>NO_QUERY</td>\n",
       "      <td>KabutoHunter</td>\n",
       "      <td>@WorldDude2 The Sky Crawlers does have amazing...</td>\n",
       "    </tr>\n",
       "    <tr>\n",
       "      <th>24595</th>\n",
       "      <td>0</td>\n",
       "      <td>1558049102</td>\n",
       "      <td>Sun Apr 19 07:04:35 PDT 2009</td>\n",
       "      <td>NO_QUERY</td>\n",
       "      <td>hbhbh</td>\n",
       "      <td>is exhausted, soccer throughout the entire wee...</td>\n",
       "    </tr>\n",
       "    <tr>\n",
       "      <th>671922</th>\n",
       "      <td>0</td>\n",
       "      <td>2247011488</td>\n",
       "      <td>Fri Jun 19 18:27:27 PDT 2009</td>\n",
       "      <td>NO_QUERY</td>\n",
       "      <td>Snickers56</td>\n",
       "      <td>@cwknight Dude, that looks EXACTLY like my cat...</td>\n",
       "    </tr>\n",
       "    <tr>\n",
       "      <th>680789</th>\n",
       "      <td>0</td>\n",
       "      <td>2249586004</td>\n",
       "      <td>Fri Jun 19 22:36:58 PDT 2009</td>\n",
       "      <td>NO_QUERY</td>\n",
       "      <td>sbjayy</td>\n",
       "      <td>@sadexposed but still if we 100 yaw gotta be p...</td>\n",
       "    </tr>\n",
       "    <tr>\n",
       "      <th>774086</th>\n",
       "      <td>0</td>\n",
       "      <td>2321375829</td>\n",
       "      <td>Wed Jun 24 20:58:13 PDT 2009</td>\n",
       "      <td>NO_QUERY</td>\n",
       "      <td>invisibleh</td>\n",
       "      <td>@GracePerry i was contemplating living in an R...</td>\n",
       "    </tr>\n",
       "  </tbody>\n",
       "</table>\n",
       "</div>"
      ],
      "text/plain": [
       "        target          id                          date      flag  \\\n",
       "410523       0  2059893874  Sat Jun 06 17:51:02 PDT 2009  NO_QUERY   \n",
       "24595        0  1558049102  Sun Apr 19 07:04:35 PDT 2009  NO_QUERY   \n",
       "671922       0  2247011488  Fri Jun 19 18:27:27 PDT 2009  NO_QUERY   \n",
       "680789       0  2249586004  Fri Jun 19 22:36:58 PDT 2009  NO_QUERY   \n",
       "774086       0  2321375829  Wed Jun 24 20:58:13 PDT 2009  NO_QUERY   \n",
       "\n",
       "                user                                               text  \n",
       "410523  KabutoHunter  @WorldDude2 The Sky Crawlers does have amazing...  \n",
       "24595          hbhbh  is exhausted, soccer throughout the entire wee...  \n",
       "671922    Snickers56  @cwknight Dude, that looks EXACTLY like my cat...  \n",
       "680789        sbjayy  @sadexposed but still if we 100 yaw gotta be p...  \n",
       "774086    invisibleh  @GracePerry i was contemplating living in an R...  "
      ]
     },
     "execution_count": 150,
     "metadata": {},
     "output_type": "execute_result"
    }
   ],
   "source": [
    "df_sample.head()"
   ]
  },
  {
   "cell_type": "code",
   "execution_count": 151,
   "metadata": {},
   "outputs": [],
   "source": [
    "df_sample['text_processed'] = df_sample[\"text\"].apply(remove_stopwords)"
   ]
  },
  {
   "cell_type": "code",
   "execution_count": 152,
   "metadata": {},
   "outputs": [
    {
     "data": {
      "text/html": [
       "<div>\n",
       "<style scoped>\n",
       "    .dataframe tbody tr th:only-of-type {\n",
       "        vertical-align: middle;\n",
       "    }\n",
       "\n",
       "    .dataframe tbody tr th {\n",
       "        vertical-align: top;\n",
       "    }\n",
       "\n",
       "    .dataframe thead th {\n",
       "        text-align: right;\n",
       "    }\n",
       "</style>\n",
       "<table border=\"1\" class=\"dataframe\">\n",
       "  <thead>\n",
       "    <tr style=\"text-align: right;\">\n",
       "      <th></th>\n",
       "      <th>target</th>\n",
       "      <th>id</th>\n",
       "      <th>date</th>\n",
       "      <th>flag</th>\n",
       "      <th>user</th>\n",
       "      <th>text</th>\n",
       "      <th>text_processed</th>\n",
       "    </tr>\n",
       "  </thead>\n",
       "  <tbody>\n",
       "    <tr>\n",
       "      <th>410523</th>\n",
       "      <td>0</td>\n",
       "      <td>2059893874</td>\n",
       "      <td>Sat Jun 06 17:51:02 PDT 2009</td>\n",
       "      <td>NO_QUERY</td>\n",
       "      <td>KabutoHunter</td>\n",
       "      <td>@WorldDude2 The Sky Crawlers does have amazing...</td>\n",
       "      <td>[worlddud, sky, crawler, doe, amaz, product, v...</td>\n",
       "    </tr>\n",
       "    <tr>\n",
       "      <th>24595</th>\n",
       "      <td>0</td>\n",
       "      <td>1558049102</td>\n",
       "      <td>Sun Apr 19 07:04:35 PDT 2009</td>\n",
       "      <td>NO_QUERY</td>\n",
       "      <td>hbhbh</td>\n",
       "      <td>is exhausted, soccer throughout the entire wee...</td>\n",
       "      <td>[exhaust, soccer, throughout, entir, week, much]</td>\n",
       "    </tr>\n",
       "    <tr>\n",
       "      <th>671922</th>\n",
       "      <td>0</td>\n",
       "      <td>2247011488</td>\n",
       "      <td>Fri Jun 19 18:27:27 PDT 2009</td>\n",
       "      <td>NO_QUERY</td>\n",
       "      <td>Snickers56</td>\n",
       "      <td>@cwknight Dude, that looks EXACTLY like my cat...</td>\n",
       "      <td>[cwknight, dude, look, exact, like, cat, back,...</td>\n",
       "    </tr>\n",
       "    <tr>\n",
       "      <th>680789</th>\n",
       "      <td>0</td>\n",
       "      <td>2249586004</td>\n",
       "      <td>Fri Jun 19 22:36:58 PDT 2009</td>\n",
       "      <td>NO_QUERY</td>\n",
       "      <td>sbjayy</td>\n",
       "      <td>@sadexposed but still if we 100 yaw gotta be p...</td>\n",
       "      <td>[sadexpos, still, yaw, got, ta, push, mayb, ya...</td>\n",
       "    </tr>\n",
       "    <tr>\n",
       "      <th>774086</th>\n",
       "      <td>0</td>\n",
       "      <td>2321375829</td>\n",
       "      <td>Wed Jun 24 20:58:13 PDT 2009</td>\n",
       "      <td>NO_QUERY</td>\n",
       "      <td>invisibleh</td>\n",
       "      <td>@GracePerry i was contemplating living in an R...</td>\n",
       "      <td>[graceperri, wa, contempl, live, rv, way, coul...</td>\n",
       "    </tr>\n",
       "  </tbody>\n",
       "</table>\n",
       "</div>"
      ],
      "text/plain": [
       "        target          id                          date      flag  \\\n",
       "410523       0  2059893874  Sat Jun 06 17:51:02 PDT 2009  NO_QUERY   \n",
       "24595        0  1558049102  Sun Apr 19 07:04:35 PDT 2009  NO_QUERY   \n",
       "671922       0  2247011488  Fri Jun 19 18:27:27 PDT 2009  NO_QUERY   \n",
       "680789       0  2249586004  Fri Jun 19 22:36:58 PDT 2009  NO_QUERY   \n",
       "774086       0  2321375829  Wed Jun 24 20:58:13 PDT 2009  NO_QUERY   \n",
       "\n",
       "                user                                               text  \\\n",
       "410523  KabutoHunter  @WorldDude2 The Sky Crawlers does have amazing...   \n",
       "24595          hbhbh  is exhausted, soccer throughout the entire wee...   \n",
       "671922    Snickers56  @cwknight Dude, that looks EXACTLY like my cat...   \n",
       "680789        sbjayy  @sadexposed but still if we 100 yaw gotta be p...   \n",
       "774086    invisibleh  @GracePerry i was contemplating living in an R...   \n",
       "\n",
       "                                           text_processed  \n",
       "410523  [worlddud, sky, crawler, doe, amaz, product, v...  \n",
       "24595    [exhaust, soccer, throughout, entir, week, much]  \n",
       "671922  [cwknight, dude, look, exact, like, cat, back,...  \n",
       "680789  [sadexpos, still, yaw, got, ta, push, mayb, ya...  \n",
       "774086  [graceperri, wa, contempl, live, rv, way, coul...  "
      ]
     },
     "execution_count": 152,
     "metadata": {},
     "output_type": "execute_result"
    }
   ],
   "source": [
    "df_sample.head()"
   ]
  },
  {
   "cell_type": "code",
   "execution_count": 153,
   "metadata": {},
   "outputs": [
    {
     "data": {
      "text/plain": [
       "[back, kill, today, move, back, mom, hous, beingveri, lone]                                               1\n",
       "[throat, hurt, cough]                                                                                     1\n",
       "[sadexpos, still, yaw, got, ta, push, mayb, yaw, got, desert, kangeroo, shit, smh, nobodi, live, like]    1\n",
       "[gabrielsanchez, presid, haha, actual, two, day]                                                          1\n",
       "[worlddud, sky, crawler, doe, amaz, product, valu, dull, stori, put, sleep]                               1\n",
       "[exhaust, soccer, throughout, entir, week, much]                                                          1\n",
       "[last, week, wa, beach, look, sea, today, desk, look, sea, paper]                                         1\n",
       "[great, weekend, realli]                                                                                  1\n",
       "[graceperri, wa, contempl, live, rv, way, could, kill, two, bird, one, stone, everyon, say, bad, idea]    1\n",
       "[love, fall, boy, right]                                                                                  1\n",
       "[cancerladi, yeah, wish, rape, away]                                                                      1\n",
       "[cwknight, dude, look, exact, like, cat, back, home, miss, veri, cute, kitti, though]                     1\n",
       "[get, readi, basketbal, tri, take, nap, didnt, fall, asleep, im, tire]                                    1\n",
       "[go, old, pictur, kind, miss, wear, glass, wow, never, imagin, say]                                       1\n",
       "[miss, sister, mucho, grando, love, littl, fanci, face, xxx]                                              1\n",
       "Name: text_processed, dtype: int64"
      ]
     },
     "execution_count": 153,
     "metadata": {},
     "output_type": "execute_result"
    }
   ],
   "source": [
    "df_sample.text_processed[:15].value_counts()"
   ]
  },
  {
   "cell_type": "code",
   "execution_count": 154,
   "metadata": {},
   "outputs": [],
   "source": [
    "lista = []\n",
    "for x in df_sample.text_processed:\n",
    "    lista += x"
   ]
  },
  {
   "cell_type": "code",
   "execution_count": 155,
   "metadata": {},
   "outputs": [],
   "source": [
    "from nltk.probability import FreqDist\n",
    "\n",
    "fdist = FreqDist(lista)\n",
    "voc = fdist.most_common(5000)\n",
    "top = [x[0] for x in voc]\n",
    "#sorted(fdist, key=fdist.get, reverse=True)[:5000]"
   ]
  },
  {
   "cell_type": "code",
   "execution_count": 194,
   "metadata": {},
   "outputs": [],
   "source": [
    "def find_features(document):\n",
    "    words = set(document)\n",
    "    features = {}\n",
    "    for w in top:\n",
    "        features[w] = (w in words)\n",
    "    s = SentimentIntensityAnalyzer().polarity_scores(\" \".join(document))\n",
    "    if s[\"pos\"] > 0.2:\n",
    "        s = True\n",
    "    else:\n",
    "        s = False\n",
    "    return (features, s)\n",
    "\n",
    "feature = list(df_sample.text_processed.apply(find_features))"
   ]
  },
  {
   "cell_type": "code",
   "execution_count": 195,
   "metadata": {},
   "outputs": [
    {
     "data": {
      "text/plain": [
       "True"
      ]
     },
     "execution_count": 195,
     "metadata": {},
     "output_type": "execute_result"
    }
   ],
   "source": [
    "feature[19000][1]"
   ]
  },
  {
   "cell_type": "code",
   "execution_count": 199,
   "metadata": {},
   "outputs": [
    {
     "name": "stdout",
     "output_type": "stream",
     "text": [
      "Classifier accuracy percent: 85.0\n"
     ]
    }
   ],
   "source": [
    "from nltk.corpus import names\n",
    "\n",
    "train_set, test_set = feature[500:], feature[:500]\n",
    "classifier = nltk.NaiveBayesClassifier.train(train_set)\n",
    "print(\"Classifier accuracy percent:\",(nltk.classify.accuracy(classifier, test_set))*100)"
   ]
  },
  {
   "cell_type": "code",
   "execution_count": null,
   "metadata": {},
   "outputs": [],
   "source": []
  }
 ],
 "metadata": {
  "kernelspec": {
   "display_name": "Python 3",
   "language": "python",
   "name": "python3"
  },
  "language_info": {
   "codemirror_mode": {
    "name": "ipython",
    "version": 3
   },
   "file_extension": ".py",
   "mimetype": "text/x-python",
   "name": "python",
   "nbconvert_exporter": "python",
   "pygments_lexer": "ipython3",
   "version": "3.7.2"
  }
 },
 "nbformat": 4,
 "nbformat_minor": 2
}
