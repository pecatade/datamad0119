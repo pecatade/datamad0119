{
 "cells": [
  {
   "cell_type": "code",
   "execution_count": 6,
   "metadata": {},
   "outputs": [],
   "source": [
    "def SentimentAnalysis(df, n_samples=20000, process_column=\"text\", n_common=5000):\n",
    "    import re\n",
    "    import nltk\n",
    "    from nltk import word_tokenize\n",
    "    from nltk.stem import WordNetLemmatizer\n",
    "    from nltk.stem import SnowballStemmer\n",
    "    from nltk.corpus import stopwords\n",
    "    from nltk.probability import FreqDist\n",
    "    from nltk.corpus import names\n",
    "    from nltk.sentiment.vader import SentimentIntensityAnalyzer\n",
    "    \n",
    "    def clean_up(s):\n",
    "        s = re.sub(\"https?://(?:[-\\w.]|(?:%[\\da-fA-F]{2}))+\", ' ', s)\n",
    "        s = re.sub('\\d+', ' ', s)\n",
    "        s = re.sub('\\W+', ' ', s)\n",
    "        s = re.sub('_', ' ', s)\n",
    "        return s.lower().strip()\n",
    "\n",
    "    def tokenize(s):\n",
    "        return word_tokenize(clean_up(s))\n",
    "    \n",
    "    def stem_and_lemmatize(s):\n",
    "        return [WordNetLemmatizer().lemmatize(SnowballStemmer(\"english\").stem(x)) for x in tokenize(s)]\n",
    "\n",
    "    def remove_stopwords(s):\n",
    "        return [w for w in stem_and_lemmatize(s) if not w in stopwords.words('english')]\n",
    "    \n",
    "    def find_features(document):\n",
    "        top = [x[0] for x in FreqDist(lista).most_common(n_common)]\n",
    "        words = set(document)\n",
    "        features = {}\n",
    "        for w in top:\n",
    "            features[w] = (w in words)\n",
    "        s = SentimentIntensityAnalyzer().polarity_scores(\" \".join(document))\n",
    "        if s[\"pos\"] > 0.2:\n",
    "            s = True\n",
    "        else:\n",
    "            s = False\n",
    "        return (features, s)\n",
    "    \n",
    "    lista = []\n",
    "    df_sample = df.sample(n=n_samples)\n",
    "    df_sample['text_processed'] = df_sample[process_column].apply(remove_stopwords)\n",
    "    for x in df_sample['text_processed']:\n",
    "        lista += x\n",
    "    feature = list(df_sample['text_processed'].apply(find_features))\n",
    "    train_set, test_set = feature[int(n_samples*0.025):], feature[:int(n_samples*0.025)]\n",
    "    classifier = nltk.NaiveBayesClassifier.train(train_set)\n",
    "    \n",
    "    return \"Classifier accuracy percent:\",(nltk.classify.accuracy(classifier, test_set))*100"
   ]
  },
  {
   "cell_type": "code",
   "execution_count": 7,
   "metadata": {},
   "outputs": [
    {
     "name": "stdout",
     "output_type": "stream",
     "text": [
      "('Classifier accuracy percent:', 84.8)\n"
     ]
    }
   ],
   "source": [
    "import pandas as pd\n",
    "\n",
    "df = pd.read_csv(\"Sentiment140.csv\")\n",
    "\n",
    "print(SentimentAnalysis(df, n_samples=5000))"
   ]
  },
  {
   "cell_type": "code",
   "execution_count": null,
   "metadata": {},
   "outputs": [],
   "source": []
  }
 ],
 "metadata": {
  "kernelspec": {
   "display_name": "Python 3",
   "language": "python",
   "name": "python3"
  },
  "language_info": {
   "codemirror_mode": {
    "name": "ipython",
    "version": 3
   },
   "file_extension": ".py",
   "mimetype": "text/x-python",
   "name": "python",
   "nbconvert_exporter": "python",
   "pygments_lexer": "ipython3",
   "version": "3.7.2"
  }
 },
 "nbformat": 4,
 "nbformat_minor": 2
}
