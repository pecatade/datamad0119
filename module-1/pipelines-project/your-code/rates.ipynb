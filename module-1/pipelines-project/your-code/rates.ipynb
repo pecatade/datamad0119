{
 "cells": [
  {
   "cell_type": "code",
   "execution_count": 376,
   "metadata": {},
   "outputs": [],
   "source": [
    "import pandas as pd\n",
    "import numpy as np"
   ]
  },
  {
   "cell_type": "code",
   "execution_count": 377,
   "metadata": {},
   "outputs": [
    {
     "name": "stdout",
     "output_type": "stream",
     "text": [
      "{'MIN', 'PHO', 'MIL', 'GSW', 'SAS', 'BRK', 'DEN', 'DAL', 'POR', 'ORL', 'IND', 'PHI', 'DET', 'BOS', 'CHO', 'OKC', 'MEM', 'LAC', 'ATL', 'HOU', 'WAS', 'NOP', 'SAC', 'NYK', 'CHI', 'LAL', 'TOR', 'UTA', 'CLE', 'MIA'}\n"
     ]
    }
   ],
   "source": [
    "data = pd.read_csv(\"CSVS/players_stats_salary.csv\")\n",
    "data.head()\n",
    "pd.set_option('display.max_columns', 500)\n",
    "print(set(data[\"Team\"]))"
   ]
  },
  {
   "cell_type": "code",
   "execution_count": 378,
   "metadata": {},
   "outputs": [
    {
     "name": "stderr",
     "output_type": "stream",
     "text": [
      "/usr/local/Cellar/ipython/7.2.0/libexec/vendor/lib/python3.7/site-packages/ipykernel_launcher.py:14: SettingWithCopyWarning: \n",
      "A value is trying to be set on a copy of a slice from a DataFrame.\n",
      "Try using .loc[row_indexer,col_indexer] = value instead\n",
      "\n",
      "See the caveats in the documentation: http://pandas.pydata.org/pandas-docs/stable/indexing.html#indexing-view-versus-copy\n",
      "  \n",
      "/usr/local/Cellar/ipython/7.2.0/libexec/vendor/lib/python3.7/site-packages/ipykernel_launcher.py:17: SettingWithCopyWarning: \n",
      "A value is trying to be set on a copy of a slice from a DataFrame.\n",
      "Try using .loc[row_indexer,col_indexer] = value instead\n",
      "\n",
      "See the caveats in the documentation: http://pandas.pydata.org/pandas-docs/stable/indexing.html#indexing-view-versus-copy\n",
      "/usr/local/Cellar/ipython/7.2.0/libexec/vendor/lib/python3.7/site-packages/ipykernel_launcher.py:18: SettingWithCopyWarning: \n",
      "A value is trying to be set on a copy of a slice from a DataFrame.\n",
      "Try using .loc[row_indexer,col_indexer] = value instead\n",
      "\n",
      "See the caveats in the documentation: http://pandas.pydata.org/pandas-docs/stable/indexing.html#indexing-view-versus-copy\n",
      "/usr/local/Cellar/ipython/7.2.0/libexec/vendor/lib/python3.7/site-packages/ipykernel_launcher.py:19: SettingWithCopyWarning: \n",
      "A value is trying to be set on a copy of a slice from a DataFrame.\n",
      "Try using .loc[row_indexer,col_indexer] = value instead\n",
      "\n",
      "See the caveats in the documentation: http://pandas.pydata.org/pandas-docs/stable/indexing.html#indexing-view-versus-copy\n"
     ]
    }
   ],
   "source": [
    "def team(team):\n",
    "    t = data[(data[\"Team\"] == team)]\n",
    "    datafloat = t[['Salary','G', 'GS', 'PTS', 'MP', 'PER', 'FTr', 'OWS', 'DWS', 'WS', 'VORP', 'FG', 'FGA', '3P', '3PA','2P', '2PA', 'FT', 'FTA', 'ORB', 'DRB','TRB', 'AST', 'STL', 'BLK', 'TOV', 'PF']]\n",
    "    data_cor = datafloat.corr()\n",
    "    data_cor = data_cor['Salary']\n",
    "    data_cor = data_cor.drop(['Salary'])\n",
    "    data_cor_sum = data_cor.sum()\n",
    "    data_cor_rate = 1 / data_cor_sum * data_cor\n",
    "    stats = datafloat.drop(columns=['Salary'])\n",
    "    stats_sum = stats.sum().astype(float)\n",
    "    stats_cor_rate = stats / stats_sum * data_cor_rate\n",
    "    player_co_rate = stats_cor_rate.sum(axis=1)\n",
    "    salary = 100000000\n",
    "    t[\"Player Co Rate\"] = player_co_rate\n",
    "    se = salary * player_co_rate\n",
    "    se = se.astype(int)\n",
    "    t[\"Salary Expected\"] = se\n",
    "    t[\"Difference\"] = t[\"Salary Expected\"] - t[\"Salary\"]\n",
    "    t[\"Difference\"] = t[\"Difference\"].astype(int)\n",
    "    t.to_csv('CSVS/team{}.csv'.format(team), index=False)\n",
    "    return t\n",
    "\n",
    "def team_csv():\n",
    "    for x in set(data[\"Team\"]):\n",
    "        team(x)\n",
    "    \n",
    "team_csv()"
   ]
  }
 ],
 "metadata": {
  "kernelspec": {
   "display_name": "Python 3",
   "language": "python",
   "name": "python3"
  },
  "language_info": {
   "codemirror_mode": {
    "name": "ipython",
    "version": 3
   },
   "file_extension": ".py",
   "mimetype": "text/x-python",
   "name": "python",
   "nbconvert_exporter": "python",
   "pygments_lexer": "ipython3",
   "version": "3.7.2"
  }
 },
 "nbformat": 4,
 "nbformat_minor": 2
}
