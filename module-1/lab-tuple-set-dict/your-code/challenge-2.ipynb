{
 "cells": [
  {
   "cell_type": "markdown",
   "metadata": {},
   "source": [
    "## Challenge 2: Sets\n",
    "\n",
    "There are a lot to learn about Python Sets and the information presented in the lesson is limited due to its length. To learn Python Sets in depth you are strongly encouraged to review the W3Schools tutorial on [Python Sets Examples and Methods](https://www.w3schools.com/python/python_sets.asp) before you work on this lab. Some difficult questions in this lab have their solutions in the W3Schools tutorial.\n",
    "\n",
    "#### First, import the Python `random` libary"
   ]
  },
  {
   "cell_type": "code",
   "execution_count": 1,
   "metadata": {},
   "outputs": [],
   "source": [
    "import random"
   ]
  },
  {
   "cell_type": "markdown",
   "metadata": {},
   "source": [
    "#### In the cell below, create a list named `sample_list_1` with 80 random values. \n",
    "\n",
    "Requirements:\n",
    "\n",
    "* Each value is an integer falling between 0 and 100.\n",
    "* Each value in the list is unique.\n",
    "\n",
    "Print `sample_list_1` to review its values\n",
    "\n",
    "*Hint: use `random.sample` ([reference](https://docs.python.org/3/library/random.html#random.sample)).*"
   ]
  },
  {
   "cell_type": "code",
   "execution_count": 7,
   "metadata": {},
   "outputs": [
    {
     "name": "stdout",
     "output_type": "stream",
     "text": [
      "[60, 2, 85, 35, 73, 18, 87, 53, 100, 33, 16, 43, 7, 22, 84, 82, 90, 32, 78, 0, 14, 41, 45, 12, 70, 93, 28, 54, 86, 8, 9, 37, 3, 1, 79, 64, 72, 57, 94, 10, 88, 59, 25, 17, 49, 19, 11, 91, 63, 71, 13, 83, 27, 21, 51, 95, 50, 80, 26, 56, 61, 42, 4, 68, 5, 47, 48, 58, 6, 30, 31, 23, 89, 40, 65, 77, 55, 92, 99, 44]\n"
     ]
    }
   ],
   "source": [
    "# Your code here\n",
    "sample_list_1 = random.sample(range(101),80)\n",
    "print(sample_list_1)\n"
   ]
  },
  {
   "cell_type": "markdown",
   "metadata": {},
   "source": [
    "#### Convert `sample_list_1` to a set called `set1`. Print the length of the set. Is its length still 80?"
   ]
  },
  {
   "cell_type": "code",
   "execution_count": 30,
   "metadata": {},
   "outputs": [
    {
     "name": "stdout",
     "output_type": "stream",
     "text": [
      "80\n"
     ]
    }
   ],
   "source": [
    "# Your code here\n",
    "sample_list_1 = sample_list_1 = random.sample(range(101),80)\n",
    "set1= set(sample_list_1)\n",
    "print(len(set1))"
   ]
  },
  {
   "cell_type": "markdown",
   "metadata": {},
   "source": [
    "#### Create another list named `sample_list_2` with 80 random values.\n",
    "\n",
    "Requirements:\n",
    "\n",
    "* Each value is an integer falling between 0 and 100.\n",
    "* The values in the list don't have to be unique.\n",
    "\n",
    "*Hint: Use a FOR loop.*"
   ]
  },
  {
   "cell_type": "code",
   "execution_count": 28,
   "metadata": {},
   "outputs": [
    {
     "name": "stdout",
     "output_type": "stream",
     "text": [
      "{0, 1, 2, 3, 11, 14, 15, 17, 18, 20, 24, 25, 27, 30, 31, 33, 34, 36, 37, 39, 42, 43, 44, 48, 49, 50, 52, 57, 58, 61, 62, 64, 65, 66, 68, 69, 70, 71, 72, 74, 80, 82, 86, 87, 88, 90, 92, 93, 96, 97, 98, 100}\n",
      "52\n"
     ]
    }
   ],
   "source": [
    "# Your code here\n",
    "sample_list_2 = []\n",
    "for x in range(80):\n",
    "    y = random.sample(range(101),1)\n",
    "    sample_list_2.append(y[0])\n",
    "\n",
    "sample_list_2 = set(sample_list_2)\n",
    "\n",
    "print(sample_list_2)\n",
    "print(len(sample_list_2))"
   ]
  },
  {
   "cell_type": "markdown",
   "metadata": {},
   "source": [
    "#### Convert `sample_list_2` to a set called `set2`. Print the length of the set. Is its length still 80?"
   ]
  },
  {
   "cell_type": "code",
   "execution_count": 29,
   "metadata": {},
   "outputs": [
    {
     "name": "stdout",
     "output_type": "stream",
     "text": [
      "{0, 5, 6, 7, 8, 9, 12, 14, 16, 17, 19, 21, 22, 23, 24, 27, 28, 29, 30, 31, 32, 34, 36, 38, 40, 41, 42, 43, 45, 51, 54, 55, 56, 57, 59, 61, 64, 65, 68, 69, 72, 73, 74, 77, 78, 79, 81, 82, 85, 89, 90, 92, 93, 94, 95, 97, 99}\n",
      "57\n"
     ]
    }
   ],
   "source": [
    "# Your code here\n",
    "sample_list_2 = []\n",
    "for x in range(80):\n",
    "    y = random.sample(range(101),1)\n",
    "    sample_list_2.append(y[0])\n",
    "\n",
    "set2 = set(sample_list_2)\n",
    "\n",
    "print(sample_list_2)\n",
    "print(len(sample_list_2))"
   ]
  },
  {
   "cell_type": "markdown",
   "metadata": {},
   "source": [
    "#### Identify the elements present in `set1` but not in `set2`. Assign the elements to a new set named `set3`."
   ]
  },
  {
   "cell_type": "code",
   "execution_count": 36,
   "metadata": {},
   "outputs": [
    {
     "name": "stdout",
     "output_type": "stream",
     "text": [
      "{0, 3, 5, 8, 10, 12, 14, 15, 22, 25, 29, 30, 35, 37, 46, 47, 48, 51, 52, 53, 56, 57, 59, 60, 63, 65, 67, 69, 70, 71, 75, 76, 80, 81, 83, 86, 87, 90, 93, 94, 96}\n",
      "41\n"
     ]
    }
   ],
   "source": [
    "# Your code here\n",
    "sample_list_1 = random.sample(range(101),80)\n",
    "set1= set(sample_list_1)\n",
    "\n",
    "sample_list_2 = []\n",
    "for x in range(80):\n",
    "    y = random.sample(range(101),1)\n",
    "    sample_list_2.append(y[0])\n",
    "set2 = set(sample_list_2)\n",
    "\n",
    "set3 = set1 - set2\n",
    "print(set3)\n",
    "print(len(set3))\n",
    "\n"
   ]
  },
  {
   "cell_type": "markdown",
   "metadata": {},
   "source": [
    "#### Identify the elements present in `set2` but not in `set1`. Assign the elements to a new set named `set4`."
   ]
  },
  {
   "cell_type": "code",
   "execution_count": 33,
   "metadata": {},
   "outputs": [
    {
     "name": "stdout",
     "output_type": "stream",
     "text": [
      "{6, 7, 42, 44, 21, 53, 86, 24, 91}\n",
      "9\n"
     ]
    }
   ],
   "source": [
    "# Your code here\n",
    "sample_list_1 = random.sample(range(101),80)\n",
    "set1= set(sample_list_1)\n",
    "\n",
    "sample_list_2 = []\n",
    "for x in range(80):\n",
    "    y = random.sample(range(101),1)\n",
    "    sample_list_2.append(y[0])\n",
    "set2 = set(sample_list_2)\n",
    "\n",
    "set4 = set2 - set1\n",
    "print(set4)\n",
    "print(len(set4))"
   ]
  },
  {
   "cell_type": "markdown",
   "metadata": {},
   "source": [
    "#### Now Identify the elements shared between `set1` and `set2`. Assign the elements to a new set named `set5`."
   ]
  },
  {
   "cell_type": "code",
   "execution_count": 37,
   "metadata": {},
   "outputs": [
    {
     "name": "stdout",
     "output_type": "stream",
     "text": [
      "{1, 4, 6, 7, 11, 14, 16, 18, 21, 23, 24, 26, 30, 32, 34, 35, 36, 37, 40, 41, 43, 46, 54, 56, 60, 61, 62, 64, 71, 72, 73, 75, 78, 82, 89, 90, 91, 92, 93, 94, 99}\n",
      "41\n"
     ]
    }
   ],
   "source": [
    "# Your code here\n",
    "sample_list_1 = random.sample(range(101),80)\n",
    "set1= set(sample_list_1)\n",
    "\n",
    "sample_list_2 = []\n",
    "for x in range(80):\n",
    "    y = random.sample(range(101),1)\n",
    "    sample_list_2.append(y[0])\n",
    "set2 = set(sample_list_2)\n",
    "\n",
    "set5 = set1.intersection(set2)\n",
    "print(set5)\n",
    "print(len(set5))"
   ]
  },
  {
   "cell_type": "markdown",
   "metadata": {},
   "source": [
    "#### What is the relationship among the following values:\n",
    "\n",
    "* len(set1)\n",
    "* len(set2)\n",
    "* len(set3)\n",
    "* len(set4)\n",
    "* len(set5)\n",
    "\n",
    "Use a math formular to represent that relationship. Test your formular with Python code."
   ]
  },
  {
   "cell_type": "code",
   "execution_count": 43,
   "metadata": {},
   "outputs": [
    {
     "name": "stdout",
     "output_type": "stream",
     "text": [
      "80\n",
      "50\n",
      "44\n",
      "14\n",
      "36\n"
     ]
    },
    {
     "data": {
      "text/plain": [
       "True"
      ]
     },
     "execution_count": 43,
     "metadata": {},
     "output_type": "execute_result"
    }
   ],
   "source": [
    "# Your code here\n",
    "sample_list_1 = random.sample(range(101),80)\n",
    "sample_list_2 = []\n",
    "for x in range(80):\n",
    "    y = random.sample(range(101),1)\n",
    "    sample_list_2.append(y[0])\n",
    "    \n",
    "set1 = set(sample_list_1)\n",
    "set2 = set(sample_list_2)\n",
    "set3 = set1 - set2\n",
    "set4 = set2 - set1\n",
    "set5 = set1.intersection(set2)\n",
    "\n",
    "print(len(set1))\n",
    "print(len(set2))\n",
    "print(len(set3))\n",
    "print(len(set4))\n",
    "print(len(set5))\n",
    "\n",
    "len(set1) == 80\n",
    "len(set2) == len(set1) - len(set3) + len(set4)\n",
    "len(set3) == len(set1) - len(set5)\n",
    "len(set4) == len(set2) - len(set5)\n",
    "len(set5) == len(set1) - len(set3)\n"
   ]
  },
  {
   "cell_type": "markdown",
   "metadata": {},
   "source": [
    "#### Create an empty set called `set6`."
   ]
  },
  {
   "cell_type": "code",
   "execution_count": 50,
   "metadata": {},
   "outputs": [],
   "source": [
    "# Your code here\n",
    "set6 = set()"
   ]
  },
  {
   "cell_type": "markdown",
   "metadata": {},
   "source": [
    "#### Add `set3` and `set5` to `set6` using the Python Set `update` method."
   ]
  },
  {
   "cell_type": "code",
   "execution_count": 52,
   "metadata": {},
   "outputs": [],
   "source": [
    "# Your code here\n",
    "sample_list_1 = random.sample(range(101),80)\n",
    "sample_list_2 = []\n",
    "for x in range(80):\n",
    "    y = random.sample(range(101),1)\n",
    "    sample_list_2.append(y[0])\n",
    "    \n",
    "set1 = set(sample_list_1)\n",
    "set2 = set(sample_list_2)\n",
    "set3 = set1 - set2\n",
    "set4 = set2 - set1\n",
    "set5 = set1.intersection(set2)\n",
    "set6 = set()\n",
    "set6 = set6.update(set3,set5)"
   ]
  },
  {
   "cell_type": "markdown",
   "metadata": {},
   "source": [
    "#### Check if `set1` and `set6` are equal."
   ]
  },
  {
   "cell_type": "code",
   "execution_count": 53,
   "metadata": {},
   "outputs": [
    {
     "data": {
      "text/plain": [
       "False"
      ]
     },
     "execution_count": 53,
     "metadata": {},
     "output_type": "execute_result"
    }
   ],
   "source": [
    "# Your code here\n",
    "sample_list_1 = random.sample(range(101),80)\n",
    "sample_list_2 = []\n",
    "for x in range(80):\n",
    "    y = random.sample(range(101),1)\n",
    "    sample_list_2.append(y[0])\n",
    "    \n",
    "set1 = set(sample_list_1)\n",
    "set2 = set(sample_list_2)\n",
    "set3 = set1 - set2\n",
    "set4 = set2 - set1\n",
    "set5 = set1.intersection(set2)\n",
    "set6 = set()\n",
    "set6 = set6.update(set3,set5)\n",
    "\n",
    "set1 == set6"
   ]
  },
  {
   "cell_type": "markdown",
   "metadata": {},
   "source": [
    "#### Check if `set1` contains `set2` using the Python Set `issubset` method. Then check if `set1` contains `set3`.*"
   ]
  },
  {
   "cell_type": "code",
   "execution_count": 57,
   "metadata": {},
   "outputs": [
    {
     "data": {
      "text/plain": [
       "False"
      ]
     },
     "execution_count": 57,
     "metadata": {},
     "output_type": "execute_result"
    }
   ],
   "source": [
    "# Your code here\n",
    "sample_list_1 = random.sample(range(101),80)\n",
    "sample_list_2 = []\n",
    "for x in range(80):\n",
    "    y = random.sample(range(101),1)\n",
    "    sample_list_2.append(y[0])\n",
    "    \n",
    "set1 = set(sample_list_1)\n",
    "set2 = set(sample_list_2)\n",
    "set3 = set1 - set2\n",
    "set4 = set2 - set1\n",
    "set5 = set1.intersection(set2)\n",
    "set6 = set()\n",
    "set6 = set6.update(set3,set5)\n",
    "\n",
    "set1.issubset(set2)\n",
    "set1.issubset(set3)"
   ]
  },
  {
   "cell_type": "markdown",
   "metadata": {},
   "source": [
    "#### Using the Python Set `union` method, aggregate `set3`, `set4`, and `set5`. Then aggregate `set1` and `set2`. \n",
    "\n",
    "#### Check if the aggregated values are equal."
   ]
  },
  {
   "cell_type": "code",
   "execution_count": 59,
   "metadata": {},
   "outputs": [
    {
     "name": "stdout",
     "output_type": "stream",
     "text": [
      "{0, 2, 3, 4, 5, 6, 8, 9, 10, 11, 12, 13, 14, 15, 16, 18, 19, 20, 21, 22, 23, 24, 25, 26, 28, 29, 30, 31, 32, 33, 34, 35, 36, 37, 38, 39, 40, 41, 43, 44, 45, 46, 47, 49, 50, 51, 52, 53, 54, 56, 57, 58, 59, 60, 61, 62, 63, 64, 65, 66, 67, 68, 69, 71, 72, 73, 75, 76, 78, 79, 80, 81, 82, 83, 84, 86, 87, 88, 89, 90, 91, 92, 93, 94, 96, 97, 98, 99, 100}\n"
     ]
    }
   ],
   "source": [
    "# Your code here\n",
    "setunion= set3.union(set4,set5)\n",
    "setunion= setunion.union(set1,set2)\n",
    "print(setunion)"
   ]
  },
  {
   "cell_type": "markdown",
   "metadata": {},
   "source": [
    "#### Using the `pop` method, remove the first element from `set1`."
   ]
  },
  {
   "cell_type": "code",
   "execution_count": 65,
   "metadata": {},
   "outputs": [
    {
     "name": "stdout",
     "output_type": "stream",
     "text": [
      "{0, 1, 4, 5, 6, 7, 8, 9, 10, 12, 13, 14, 16, 17, 18, 19, 20, 21, 22, 23, 24, 26, 28, 30, 31, 32, 34, 36, 37, 38, 39, 41, 42, 43, 45, 47, 48, 49, 50, 51, 53, 54, 55, 56, 58, 59, 60, 61, 62, 64, 65, 66, 67, 68, 69, 70, 72, 73, 75, 76, 77, 78, 79, 80, 81, 82, 83, 84, 85, 86, 87, 88, 89, 90, 91, 92, 93, 94, 97, 100}\n",
      "{1, 4, 5, 6, 7, 8, 9, 10, 12, 13, 14, 16, 17, 18, 19, 20, 21, 22, 23, 24, 26, 28, 30, 31, 32, 34, 36, 37, 38, 39, 41, 42, 43, 45, 47, 48, 49, 50, 51, 53, 54, 55, 56, 58, 59, 60, 61, 62, 64, 65, 66, 67, 68, 69, 70, 72, 73, 75, 76, 77, 78, 79, 80, 81, 82, 83, 84, 85, 86, 87, 88, 89, 90, 91, 92, 93, 94, 97, 100}\n"
     ]
    }
   ],
   "source": [
    "# Your code here\n",
    "sample_list_1 = random.sample(range(101),80)\n",
    "sample_list_2 = []\n",
    "for x in range(80):\n",
    "    y = random.sample(range(101),1)\n",
    "    sample_list_2.append(y[0])\n",
    "    \n",
    "set1 = set(sample_list_1)\n",
    "set2 = set(sample_list_2)\n",
    "set3 = set1 - set2\n",
    "set4 = set2 - set1\n",
    "set5 = set1.intersection(set2)\n",
    "set6 = set()\n",
    "set6 = set6.update(set3,set5)\n",
    "print(set1)\n",
    "set1.pop()\n",
    "print(set1)"
   ]
  },
  {
   "cell_type": "markdown",
   "metadata": {},
   "source": [
    "#### Remove every element in the following list from `set1` if they are present in the set. Print the remaining elements.\n",
    "\n",
    "```\n",
    "list_to_remove = [1, 9, 11, 19, 21, 29, 31, 39, 41, 49, 51, 59, 61, 69, 71, 79, 81, 89, 91, 99]\n",
    "```"
   ]
  },
  {
   "cell_type": "code",
   "execution_count": 66,
   "metadata": {},
   "outputs": [
    {
     "name": "stdout",
     "output_type": "stream",
     "text": [
      "{0, 2, 3, 4, 5, 6, 7, 8, 12, 15, 16, 17, 18, 20, 22, 23, 24, 26, 27, 30, 33, 35, 36, 38, 40, 42, 43, 44, 45, 48, 50, 53, 55, 56, 57, 58, 62, 63, 64, 65, 66, 67, 68, 70, 72, 73, 74, 76, 77, 78, 80, 83, 84, 85, 86, 88, 90, 92, 93, 94, 95, 96, 97, 100}\n"
     ]
    }
   ],
   "source": [
    "# Your code here\n",
    "sample_list_1 = random.sample(range(101),80)\n",
    "sample_list_2 = []\n",
    "for x in range(80):\n",
    "    y = random.sample(range(101),1)\n",
    "    sample_list_2.append(y[0])\n",
    "    \n",
    "set1 = set(sample_list_1)\n",
    "set2 = set(sample_list_2)\n",
    "set3 = set1 - set2\n",
    "set4 = set2 - set1\n",
    "set5 = set1.intersection(set2)\n",
    "set6 = set()\n",
    "set6 = set6.update(set3,set5)\n",
    "list_to_remove = [1, 9, 11, 19, 21, 29, 31, 39, 41, 49, 51, 59, 61, 69, 71, 79, 81, 89, 91, 99]\n",
    "\n",
    "set1.difference_update(list_to_remove)\n",
    "print(set1)"
   ]
  }
 ],
 "metadata": {
  "kernelspec": {
   "display_name": "Python 3",
   "language": "python",
   "name": "python3"
  },
  "language_info": {
   "codemirror_mode": {
    "name": "ipython",
    "version": 3
   },
   "file_extension": ".py",
   "mimetype": "text/x-python",
   "name": "python",
   "nbconvert_exporter": "python",
   "pygments_lexer": "ipython3",
   "version": "3.7.2"
  }
 },
 "nbformat": 4,
 "nbformat_minor": 2
}
