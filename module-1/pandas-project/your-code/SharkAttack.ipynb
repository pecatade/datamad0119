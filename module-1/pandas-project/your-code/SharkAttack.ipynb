{
 "cells": [
  {
   "cell_type": "markdown",
   "metadata": {},
   "source": [
    "# Proyecto Shark Attack"
   ]
  },
  {
   "cell_type": "markdown",
   "metadata": {},
   "source": [
    "## DATA CLEANING"
   ]
  },
  {
   "cell_type": "code",
   "execution_count": 89,
   "metadata": {},
   "outputs": [],
   "source": [
    "import pandas as pd"
   ]
  },
  {
   "cell_type": "code",
   "execution_count": 90,
   "metadata": {},
   "outputs": [],
   "source": [
    "#Exportamos la base de dato y creamos un duplicado sobre el que vamos a trabajar\n",
    "data = pd.read_csv('GSAF2.csv')\n",
    "data1 = data"
   ]
  },
  {
   "cell_type": "code",
   "execution_count": 91,
   "metadata": {},
   "outputs": [
    {
     "data": {
      "text/plain": [
       "Country                     43\n",
       "Area                       402\n",
       "Location                   496\n",
       "Activity                   527\n",
       "Name                       200\n",
       "Sex                        567\n",
       "Age                       2681\n",
       "Injury                      27\n",
       "Fatal (Y/N)                 19\n",
       "Time                      3213\n",
       "Species                   2934\n",
       "Investigator or Source      15\n",
       "href formula                 1\n",
       "href                         3\n",
       "Unnamed: 22               5991\n",
       "Unnamed: 23               5990\n",
       "dtype: int64"
      ]
     },
     "execution_count": 91,
     "metadata": {},
     "output_type": "execute_result"
    }
   ],
   "source": [
    "# Comprobamos la cantidad de valores nulos por columnas\n",
    "null_cols = data1.isnull().sum()\n",
    "null_cols[null_cols > 0]"
   ]
  },
  {
   "cell_type": "code",
   "execution_count": 92,
   "metadata": {},
   "outputs": [],
   "source": [
    "# Eliminamos las columnas que no vamos a utilizar\n",
    "data1 = data1.drop(['Unnamed: 22','Unnamed: 23','Case Number','Case Number.1','Name','Case Number.2','Investigator or Source','pdf','href formula','href','original order','Injury','Type','Species '], axis=1)"
   ]
  },
  {
   "cell_type": "code",
   "execution_count": 93,
   "metadata": {},
   "outputs": [
    {
     "data": {
      "text/html": [
       "<div>\n",
       "<style scoped>\n",
       "    .dataframe tbody tr th:only-of-type {\n",
       "        vertical-align: middle;\n",
       "    }\n",
       "\n",
       "    .dataframe tbody tr th {\n",
       "        vertical-align: top;\n",
       "    }\n",
       "\n",
       "    .dataframe thead th {\n",
       "        text-align: right;\n",
       "    }\n",
       "</style>\n",
       "<table border=\"1\" class=\"dataframe\">\n",
       "  <thead>\n",
       "    <tr style=\"text-align: right;\">\n",
       "      <th></th>\n",
       "      <th>Year</th>\n",
       "      <th>Month</th>\n",
       "      <th>Hour</th>\n",
       "      <th>Country</th>\n",
       "      <th>Area</th>\n",
       "      <th>Location</th>\n",
       "      <th>Sex</th>\n",
       "      <th>Age</th>\n",
       "      <th>Activity</th>\n",
       "      <th>Fatal (Y/N)</th>\n",
       "    </tr>\n",
       "  </thead>\n",
       "  <tbody>\n",
       "    <tr>\n",
       "      <th>0</th>\n",
       "      <td>2016</td>\n",
       "      <td>18-Sep-16</td>\n",
       "      <td>13h00</td>\n",
       "      <td>USA</td>\n",
       "      <td>Florida</td>\n",
       "      <td>New Smyrna Beach, Volusia County</td>\n",
       "      <td>M</td>\n",
       "      <td>16</td>\n",
       "      <td>Surfing</td>\n",
       "      <td>N</td>\n",
       "    </tr>\n",
       "    <tr>\n",
       "      <th>1</th>\n",
       "      <td>2016</td>\n",
       "      <td>18-Sep-16</td>\n",
       "      <td>11h00</td>\n",
       "      <td>USA</td>\n",
       "      <td>Florida</td>\n",
       "      <td>New Smyrna Beach, Volusia County</td>\n",
       "      <td>M</td>\n",
       "      <td>36</td>\n",
       "      <td>Surfing</td>\n",
       "      <td>N</td>\n",
       "    </tr>\n",
       "    <tr>\n",
       "      <th>2</th>\n",
       "      <td>2016</td>\n",
       "      <td>18-Sep-16</td>\n",
       "      <td>10h43</td>\n",
       "      <td>USA</td>\n",
       "      <td>Florida</td>\n",
       "      <td>New Smyrna Beach, Volusia County</td>\n",
       "      <td>M</td>\n",
       "      <td>43</td>\n",
       "      <td>Surfing</td>\n",
       "      <td>N</td>\n",
       "    </tr>\n",
       "  </tbody>\n",
       "</table>\n",
       "</div>"
      ],
      "text/plain": [
       "   Year      Month   Hour Country     Area                          Location  \\\n",
       "0  2016  18-Sep-16  13h00     USA  Florida  New Smyrna Beach, Volusia County   \n",
       "1  2016  18-Sep-16  11h00     USA  Florida  New Smyrna Beach, Volusia County   \n",
       "2  2016  18-Sep-16  10h43     USA  Florida  New Smyrna Beach, Volusia County   \n",
       "\n",
       "  Sex Age Activity Fatal (Y/N)  \n",
       "0   M  16  Surfing           N  \n",
       "1   M  36  Surfing           N  \n",
       "2   M  43  Surfing           N  "
      ]
     },
     "execution_count": 93,
     "metadata": {},
     "output_type": "execute_result"
    }
   ],
   "source": [
    "#Renombramos algunos nombres de columnas y las ordenamos\n",
    "data1 = data1.rename(index=str, columns={\"Sex \": \"Sex\", \"Time\": \"Hour\", \"Date\": \"Month\"})\n",
    "column_order = ['Year','Month','Hour','Country','Area','Location','Sex','Age','Activity','Fatal (Y/N)']\n",
    "data1 = data1[column_order]\n",
    "data1.head(3)\n",
    "\n",
    "\n"
   ]
  },
  {
   "cell_type": "code",
   "execution_count": 94,
   "metadata": {},
   "outputs": [
    {
     "data": {
      "text/html": [
       "<div>\n",
       "<style scoped>\n",
       "    .dataframe tbody tr th:only-of-type {\n",
       "        vertical-align: middle;\n",
       "    }\n",
       "\n",
       "    .dataframe tbody tr th {\n",
       "        vertical-align: top;\n",
       "    }\n",
       "\n",
       "    .dataframe thead th {\n",
       "        text-align: right;\n",
       "    }\n",
       "</style>\n",
       "<table border=\"1\" class=\"dataframe\">\n",
       "  <thead>\n",
       "    <tr style=\"text-align: right;\">\n",
       "      <th></th>\n",
       "      <th>Year</th>\n",
       "      <th>Month</th>\n",
       "      <th>Hour</th>\n",
       "      <th>Country</th>\n",
       "      <th>Area</th>\n",
       "      <th>Location</th>\n",
       "      <th>Sex</th>\n",
       "      <th>Age</th>\n",
       "      <th>Activity</th>\n",
       "      <th>Fatal (Y/N)</th>\n",
       "    </tr>\n",
       "  </thead>\n",
       "  <tbody>\n",
       "    <tr>\n",
       "      <th>0</th>\n",
       "      <td>2016</td>\n",
       "      <td>18-Sep-16</td>\n",
       "      <td>13h00</td>\n",
       "      <td>USA</td>\n",
       "      <td>Florida</td>\n",
       "      <td>New Smyrna Beach, Volusia County</td>\n",
       "      <td>M</td>\n",
       "      <td>16</td>\n",
       "      <td>Surfing</td>\n",
       "      <td>N</td>\n",
       "    </tr>\n",
       "    <tr>\n",
       "      <th>52</th>\n",
       "      <td>2016</td>\n",
       "      <td>05-Jun-16</td>\n",
       "      <td>11h30</td>\n",
       "      <td>AUSTRALIA</td>\n",
       "      <td>Western Australia</td>\n",
       "      <td>Mindarie</td>\n",
       "      <td>F</td>\n",
       "      <td>60</td>\n",
       "      <td>Diving</td>\n",
       "      <td>Y</td>\n",
       "    </tr>\n",
       "    <tr>\n",
       "      <th>76</th>\n",
       "      <td>2016</td>\n",
       "      <td>31-Mar-16</td>\n",
       "      <td>11h00</td>\n",
       "      <td>USA</td>\n",
       "      <td>Hawaii</td>\n",
       "      <td>Olowalu, Maui</td>\n",
       "      <td>F</td>\n",
       "      <td>46</td>\n",
       "      <td>Snorkeling</td>\n",
       "      <td>N</td>\n",
       "    </tr>\n",
       "    <tr>\n",
       "      <th>75</th>\n",
       "      <td>2016</td>\n",
       "      <td>07-Apr-16</td>\n",
       "      <td>NaN</td>\n",
       "      <td>USA</td>\n",
       "      <td>Florida</td>\n",
       "      <td>Corners Beach, Jupiter, Palm Beach County</td>\n",
       "      <td>M</td>\n",
       "      <td>NaN</td>\n",
       "      <td>SUP</td>\n",
       "      <td>N</td>\n",
       "    </tr>\n",
       "    <tr>\n",
       "      <th>74</th>\n",
       "      <td>2016</td>\n",
       "      <td>07-Apr-16</td>\n",
       "      <td>NaN</td>\n",
       "      <td>USA</td>\n",
       "      <td>Florida</td>\n",
       "      <td>Florida Keys, Monroe County</td>\n",
       "      <td>M</td>\n",
       "      <td>34</td>\n",
       "      <td>Fishing</td>\n",
       "      <td>N</td>\n",
       "    </tr>\n",
       "  </tbody>\n",
       "</table>\n",
       "</div>"
      ],
      "text/plain": [
       "    Year      Month   Hour    Country               Area  \\\n",
       "0   2016  18-Sep-16  13h00        USA            Florida   \n",
       "52  2016  05-Jun-16  11h30  AUSTRALIA  Western Australia   \n",
       "76  2016  31-Mar-16  11h00        USA             Hawaii   \n",
       "75  2016  07-Apr-16    NaN        USA            Florida   \n",
       "74  2016  07-Apr-16    NaN        USA            Florida   \n",
       "\n",
       "                                     Location Sex  Age    Activity Fatal (Y/N)  \n",
       "0            New Smyrna Beach, Volusia County   M   16     Surfing           N  \n",
       "52                                   Mindarie   F   60      Diving           Y  \n",
       "76                              Olowalu, Maui   F   46  Snorkeling           N  \n",
       "75  Corners Beach, Jupiter, Palm Beach County   M  NaN         SUP           N  \n",
       "74                Florida Keys, Monroe County   M   34     Fishing           N  "
      ]
     },
     "execution_count": 94,
     "metadata": {},
     "output_type": "execute_result"
    }
   ],
   "source": [
    "#Eliminamos todos los datos anteriores a 1900\n",
    "years = data1[\"Year\"]\n",
    "drop_cols = list(years[years < 1900].index)\n",
    "data1 = data1.drop(drop_cols, axis=0)\n",
    "\n",
    "# Ordenamos la tabla por año\n",
    "data1.sort_values(['Year'], ascending = 0).head()"
   ]
  },
  {
   "cell_type": "code",
   "execution_count": 95,
   "metadata": {},
   "outputs": [
    {
     "data": {
      "text/plain": [
       "Hour           2633\n",
       "Country          22\n",
       "Area            295\n",
       "Location        363\n",
       "Sex             505\n",
       "Age            2103\n",
       "Activity        426\n",
       "Fatal (Y/N)       9\n",
       "dtype: int64"
      ]
     },
     "execution_count": 95,
     "metadata": {},
     "output_type": "execute_result"
    }
   ],
   "source": [
    "null_cols1 = data1.isnull().sum()\n",
    "null_cols1[null_cols1 > 0]"
   ]
  },
  {
   "cell_type": "code",
   "execution_count": 96,
   "metadata": {},
   "outputs": [],
   "source": [
    "# Eliminamos las filas que tenían algún valor de las columnas Country, Fatal, Area o Location nulos\n",
    "data1 = data1.dropna(subset=['Country','Fatal (Y/N)','Area','Location'], axis=0)\n"
   ]
  },
  {
   "cell_type": "code",
   "execution_count": 97,
   "metadata": {},
   "outputs": [
    {
     "data": {
      "text/plain": [
       "Hour        2200\n",
       "Sex          421\n",
       "Age         1770\n",
       "Activity     352\n",
       "dtype: int64"
      ]
     },
     "execution_count": 97,
     "metadata": {},
     "output_type": "execute_result"
    }
   ],
   "source": [
    "null_cols1 = data1.isnull().sum()\n",
    "null_cols1[null_cols1 > 0]"
   ]
  },
  {
   "cell_type": "code",
   "execution_count": 98,
   "metadata": {},
   "outputs": [],
   "source": [
    "#Cambiamos los datos nulos a Unknokn\n",
    "data1[['Activity','Sex','Age','Hour']] = data1[['Activity','Sex','Age','Hour']].fillna('Unknown')"
   ]
  },
  {
   "cell_type": "code",
   "execution_count": 99,
   "metadata": {},
   "outputs": [
    {
     "data": {
      "text/plain": [
       "Series([], dtype: int64)"
      ]
     },
     "execution_count": 99,
     "metadata": {},
     "output_type": "execute_result"
    }
   ],
   "source": [
    "#Comprobamos que no queda ningún nulo\n",
    "null_cols1 = data1.isnull().sum()\n",
    "null_cols1[null_cols1 > 0]"
   ]
  },
  {
   "cell_type": "code",
   "execution_count": 100,
   "metadata": {},
   "outputs": [
    {
     "data": {
      "text/plain": [
       "Unknown    970\n",
       "Jul        525\n",
       "Aug        488\n",
       "Jan        421\n",
       "Jun        385\n",
       "Oct        357\n",
       "Apr        353\n",
       "Dec        352\n",
       "Mar        330\n",
       "Nov        319\n",
       "May        295\n",
       "Name: Month, dtype: int64"
      ]
     },
     "execution_count": 100,
     "metadata": {},
     "output_type": "execute_result"
    }
   ],
   "source": [
    "#Nos quedamos solo con el mes del ataque \n",
    "def fecha(*lab):\n",
    "    for x in lab:\n",
    "        data1.loc[data1[\"Month\"].str.contains(x), 'Month'] = x\n",
    "fecha('Jan','Mar','Feb','Apr','May','Jun','Jul','Aug','Sep','Oct','Nov','Dec')\n",
    "\n",
    "def april(*lab):\n",
    "    for x in lab:\n",
    "        data1.loc[data1[\"Month\"].str.contains(x), 'Month'] = 'Apr'\n",
    "april('Ap')\n",
    "\n",
    "def nomon(*lab):\n",
    "    for x in lab:\n",
    "        data1.loc[data1[\"Month\"].str.startswith(x), 'Month'] = 'Unknown'\n",
    "nomon('1','2','S','R','C','F','W','E','L')\n",
    "\n",
    "datavalue = data1[[\"Month\"]].stack().value_counts().index.tolist()\n",
    "data1[\"Month\"].value_counts()"
   ]
  },
  {
   "cell_type": "code",
   "execution_count": 101,
   "metadata": {},
   "outputs": [
    {
     "data": {
      "text/plain": [
       "334"
      ]
     },
     "metadata": {},
     "output_type": "display_data"
    },
    {
     "data": {
      "text/plain": [
       "Unknown    2675\n",
       "11h         228\n",
       "16h         224\n",
       "14h         222\n",
       "15h         218\n",
       "Name: Hour, dtype: int64"
      ]
     },
     "execution_count": 101,
     "metadata": {},
     "output_type": "execute_result"
    }
   ],
   "source": [
    "datavalue = data1[[\"Hour\"]].stack().value_counts().index.tolist()\n",
    "display(len(datavalue))\n",
    "\n",
    "data1[\"Hour\"] = data1[\"Hour\"].str.lower()\n",
    "def time(*lab):\n",
    "    for x in lab:\n",
    "        data1.loc[data1[\"Hour\"].str.startswith(x), 'Hour'] = x + \"h\"\n",
    "time('00','01','02','03','04','05','06','07','08','09','10','11','12','13','14','15','16','17','18','19',\"20\",\"21\",\"22\",\"23\")\n",
    "\n",
    "letras =['<','>','2 ','8','3','� ','500','\"',' ','-','a','b','c','d','e','f','g','h','i','j','k','l','m','n','o','p','q','r','s','t','u','v','w','x','y','z']\n",
    "def notime(lab):\n",
    "    for x in lab:\n",
    "        data1.loc[data1[\"Hour\"].str.startswith(x), \"Hour\"] = 'Unknown'\n",
    "notime(letras)\n",
    "\n",
    "datavalue = data1[[\"Hour\"]].stack().value_counts().index.tolist()\n",
    "data1[\"Hour\"].value_counts().head()\n",
    "\n",
    "\n"
   ]
  },
  {
   "cell_type": "code",
   "execution_count": 102,
   "metadata": {},
   "outputs": [
    {
     "data": {
      "text/plain": [
       "129"
      ]
     },
     "metadata": {},
     "output_type": "display_data"
    },
    {
     "data": {
      "text/plain": [
       "USA                 1958\n",
       "AUSTRALIA           1094\n",
       "SOUTH AFRICA         527\n",
       "PAPUA NEW GUINEA     113\n",
       "BRAZIL                93\n",
       "Name: Country, dtype: int64"
      ]
     },
     "execution_count": 102,
     "metadata": {},
     "output_type": "execute_result"
    }
   ],
   "source": [
    "# Corregimos el espacio que había delante de TONGA\n",
    "data1['Country'] = data1['Country'].str.upper()\n",
    "data1.loc[data1['Country'].str.startswith(\" T\"), 'Country'] = 'TONGA'\n",
    "datavalue = data1[[\"Country\"]].stack().value_counts().index.tolist()\n",
    "display(len(datavalue))\n",
    "data1['Country'].value_counts().head()\n"
   ]
  },
  {
   "cell_type": "code",
   "execution_count": 103,
   "metadata": {},
   "outputs": [
    {
     "data": {
      "text/plain": [
       "['M', 'F', 'Unknown', 'M ', '.', 'N', 'lli']"
      ]
     },
     "metadata": {},
     "output_type": "display_data"
    },
    {
     "data": {
      "text/plain": [
       "M          3847\n",
       "F           524\n",
       "Unknown     424\n",
       "Name: Sex, dtype: int64"
      ]
     },
     "execution_count": 103,
     "metadata": {},
     "output_type": "execute_result"
    }
   ],
   "source": [
    "#Cambiamos algunos de los valores de la columna Sex\n",
    "datavalue = data1[[\"Sex\"]].stack().value_counts().index.tolist()\n",
    "display(datavalue)\n",
    "\n",
    "def nosex(*lab):\n",
    "    for x in lab:\n",
    "        data1.loc[data1['Sex'].str.startswith(x), 'Sex'] = 'Unknown'\n",
    "nosex('.', 'lli', 'N')\n",
    "\n",
    "def msex(*lab):\n",
    "    for x in lab:\n",
    "        data1.loc[data1['Sex'].str.startswith(x), 'Sex'] = 'M'\n",
    "msex('M ')\n",
    "\n",
    "datavalue = data1[[\"Sex\"]].stack().value_counts().index.tolist()\n",
    "\n",
    "data1[\"Sex\"].value_counts()"
   ]
  },
  {
   "cell_type": "code",
   "execution_count": 104,
   "metadata": {},
   "outputs": [
    {
     "data": {
      "text/plain": [
       "111"
      ]
     },
     "metadata": {},
     "output_type": "display_data"
    },
    {
     "data": {
      "text/plain": [
       "Unknown    1778\n",
       "17          137\n",
       "18          134\n",
       "19          127\n",
       "16          127\n",
       "Name: Age, dtype: int64"
      ]
     },
     "execution_count": 104,
     "metadata": {},
     "output_type": "execute_result"
    }
   ],
   "source": [
    "edu = []\n",
    "def edad(lab):\n",
    "    for x in lab:\n",
    "        data1.loc[data1[\"Age\"].str.startswith(x), \"Age\"] = str(x)\n",
    "    for y in range(10,90):\n",
    "        edu.append(str(y))\n",
    "edad(edu)\n",
    "\n",
    "#for (i, elem) in enumerate(data1[\"Age\"]):\n",
    "    #print(i, elem)\n",
    "    \n",
    "#No he conseguido automatizar que me sacara el index, ni cambiar los valores de esos index por Unknown y los he tenido que extraer a mano y eliminar\n",
    "ind = [386,695,1197,1262,1327,1411,1490,1491,1564,1614,2050,2548,2564,2677,2911,2968,2984,3030,3134,3271,3503,3515,3652,3804,3853,3894,4012,4041,4129,4141,4379,4460,4688,4777]\n",
    "data1 = data1.drop(data1.index[ind])\n",
    "\n",
    "def no(*lab):\n",
    "    for x in lab:\n",
    "        data1.loc[data1[\"Age\"].str.contains(x), \"Age\"] = \"Unknown\"\n",
    "no('young','A.M.','teen','Teen')\n",
    "\n",
    "datavalue = data1[[\"Age\"]].stack().value_counts().index.tolist()\n",
    "display(len(datavalue))\n",
    "\n",
    "data1[\"Age\"].value_counts().head()"
   ]
  },
  {
   "cell_type": "code",
   "execution_count": 105,
   "metadata": {},
   "outputs": [
    {
     "data": {
      "text/plain": [
       "1112"
      ]
     },
     "metadata": {},
     "output_type": "display_data"
    },
    {
     "data": {
      "text/plain": [
       "Swiming         1120\n",
       "Surfing          972\n",
       "Fishing          847\n",
       "Other            841\n",
       "Diving           373\n",
       "Bodyboarding     166\n",
       "Standing         117\n",
       "Snorkeling        72\n",
       "Kayaking          57\n",
       "Paddling          28\n",
       "Name: Activity, dtype: int64"
      ]
     },
     "execution_count": 105,
     "metadata": {},
     "output_type": "execute_result"
    }
   ],
   "source": [
    "datavalue = data1[[\"Activity\"]].stack().value_counts().index.tolist()\n",
    "display(len(datavalue))\n",
    "\n",
    "#Vamos a reducir de 1098 actividades a categorizarlas en 21 categorías\n",
    "data1['Activity'] = data1['Activity'].str.lower()\n",
    "\n",
    "def fishing(*lab):\n",
    "    for x in lab:\n",
    "        data1.loc[data1['Activity'].str.startswith(x), 'Activity'] = 'Fishing'\n",
    "fishing('fish','lobs','catch','wade','harp','fly f','spear','hunt')\n",
    "\n",
    "def surfing(*lab):\n",
    "    for x in lab:\n",
    "        data1.loc[data1['Activity'].str.startswith(x), 'Activity'] = 'Surfing'\n",
    "surfing('surf','\"riding')\n",
    "\n",
    "def swiming(*lab):\n",
    "    for x in lab:\n",
    "        data1.loc[data1['Activity'].str.startswith(x), 'Activity'] = 'Swiming'\n",
    "swiming('swim','tread','float','bath','\"swim\"','wadi','\"swim')\n",
    "\n",
    "def kayaking(*lab):\n",
    "    for x in lab:\n",
    "        data1.loc[data1['Activity'].str.startswith(x), 'Activity'] = 'Kayaking'\n",
    "kayaking('kaya','canoe')\n",
    "\n",
    "def diving(*lab):\n",
    "    for x in lab:\n",
    "        data1.loc[data1['Activity'].str.startswith(x), 'Activity'] = 'Diving'\n",
    "diving('scub','free','div','skin','pearl')\n",
    "\n",
    "def kite(*lab):\n",
    "    for x in lab:\n",
    "        data1.loc[data1['Activity'].str.startswith(x), 'Activity'] = 'Kite'\n",
    "kite('kite')\n",
    "\n",
    "def snorkeling(*lab):\n",
    "    for x in lab:\n",
    "        data1.loc[data1['Activity'].str.startswith(x), 'Activity'] = 'Snorkeling'\n",
    "snorkeling('snor')\n",
    "\n",
    "def sailing(*lab):\n",
    "    for x in lab:\n",
    "        data1.loc[data1['Activity'].str.startswith(x), 'Activity'] = 'Sailing'\n",
    "sailing('boat','sail')\n",
    "\n",
    "def air(*lab):\n",
    "    for x in lab:\n",
    "        data1.loc[data1['Activity'].str.startswith(x), 'Activity'] = 'Air Disaster'\n",
    "air('argentin','air','boeing','\"flying')\n",
    "\n",
    "def body(*lab):\n",
    "    for x in lab:\n",
    "        data1.loc[data1['Activity'].str.startswith(x), 'Activity'] = 'Bodyboarding'\n",
    "body('boogie','body')\n",
    "\n",
    "def play(*lab):\n",
    "    for x in lab:\n",
    "        data1.loc[data1['Activity'].str.startswith(x), 'Activity'] = 'Playing'\n",
    "play('play')\n",
    "\n",
    "def paddling(*lab):\n",
    "    for x in lab:\n",
    "        data1.loc[data1['Activity'].str.startswith(x), 'Activity'] = 'Paddling'\n",
    "paddling('padd')\n",
    "\n",
    "def jump(*lab):\n",
    "    for x in lab:\n",
    "        data1.loc[data1['Activity'].str.startswith(x), 'Activity'] = 'Jumping'\n",
    "jump('jump')\n",
    "\n",
    "def shark(*lab):\n",
    "    for x in lab:\n",
    "        data1.loc[data1['Activity'].str.startswith(x), 'Activity'] = 'Shark Fishing'\n",
    "shark('shark','remov','kill')\n",
    "\n",
    "def stand(*lab):\n",
    "    for x in lab:\n",
    "        data1.loc[data1['Activity'].str.startswith(x), 'Activity'] = 'Standing'\n",
    "stand('stand')\n",
    "\n",
    "def unk(*lab):\n",
    "    for x in lab:\n",
    "        data1.loc[data1['Activity'].str.startswith(x), 'Activity'] = 'Unknown'\n",
    "unk('no ','.',' ')\n",
    "\n",
    "def kite(*lab):\n",
    "    for x in lab:\n",
    "        data1.loc[data1['Activity'].str.startswith(x), 'Activity'] = 'Kitesurfing'\n",
    "kite('kite')\n",
    "\n",
    "def sea(*lab):\n",
    "    for x in lab:\n",
    "        data1.loc[data1['Activity'].str.startswith(x), 'Activity'] = 'Sea Disaster'\n",
    "sea('sea d','ferry','3','2','1','4','9')\n",
    "\n",
    "def wind(*lab):\n",
    "    for x in lab:\n",
    "        data1.loc[data1['Activity'].str.startswith(x), 'Activity'] = 'Windsurfing'\n",
    "wind('wind')\n",
    "\n",
    "def helping(*lab):\n",
    "    for x in lab:\n",
    "        data1.loc[data1['Activity'].str.startswith(x), 'Activity'] = 'Helping'\n",
    "helping('help')\n",
    "\n",
    "lower =['a','b','c','d','e','f','g','h','i','j','k','l','m','n','o','p','q','r','s','t','u','v','w','x','y','z']\n",
    "def photo(lab):\n",
    "    for x in lab:\n",
    "        data1.loc[data1['Activity'].str.startswith(x), 'Activity'] = 'Other'\n",
    "photo(lower)\n",
    "\n",
    "\n",
    "\n",
    "datavalue = data1[[\"Activity\"]].stack().value_counts().index.tolist()\n",
    "data1[\"Activity\"].value_counts().head(10)"
   ]
  },
  {
   "cell_type": "code",
   "execution_count": 106,
   "metadata": {},
   "outputs": [
    {
     "data": {
      "text/plain": [
       "N          3698\n",
       "Y           997\n",
       "UNKNOWN      66\n",
       "Name: Fatal (Y/N), dtype: int64"
      ]
     },
     "execution_count": 106,
     "metadata": {},
     "output_type": "execute_result"
    }
   ],
   "source": [
    "# Unificamos los valores de la columna Fatal a Y/N/UNKNOWN\n",
    "datavalue = data1[[\"Fatal (Y/N)\"]].stack().value_counts().index.tolist()\n",
    "\n",
    "def N(*lab):\n",
    "    for x in lab:\n",
    "        data1.loc[data1['Fatal (Y/N)'].str.startswith(x), 'Fatal (Y/N)'] = 'N'\n",
    "N(' N','N ')\n",
    "\n",
    "def Unkf(*lab):\n",
    "    for x in lab:\n",
    "        data1.loc[data1['Fatal (Y/N)'].str.startswith(x), 'Fatal (Y/N)'] = 'UNKNOWN'\n",
    "Unkf('F')\n",
    "\n",
    "datavalue = data1[[\"Fatal (Y/N)\"]].stack().value_counts().index.tolist()\n",
    "\n",
    "data1[\"Fatal (Y/N)\"].value_counts()\n",
    "\n",
    "\n"
   ]
  },
  {
   "cell_type": "code",
   "execution_count": 107,
   "metadata": {},
   "outputs": [],
   "source": [
    "ausdata = data1[(data1['Country']=='AUSTRALIA')]"
   ]
  },
  {
   "cell_type": "markdown",
   "metadata": {},
   "source": [
    "## RESULTADOS ESTUDIO DE LOS ATAQUES DE TIBURONES EN AUSTRALIA DESDE EL AÑO 1900 AL 2016"
   ]
  },
  {
   "cell_type": "markdown",
   "metadata": {},
   "source": [
    "### En Australia se producen el el 22,83% de los ataques de tiburones a nivel mundial"
   ]
  },
  {
   "cell_type": "code",
   "execution_count": 108,
   "metadata": {},
   "outputs": [
    {
     "data": {
      "text/plain": [
       "USA             40.831758\n",
       "AUSTRALIA       22.831338\n",
       "SOUTH AFRICA    11.027095\n",
       "Name: Country, dtype: float64"
      ]
     },
     "execution_count": 108,
     "metadata": {},
     "output_type": "execute_result"
    }
   ],
   "source": [
    "data1.Country.value_counts().head(3)/4761*100"
   ]
  },
  {
   "cell_type": "markdown",
   "metadata": {},
   "source": [
    "### En los últimos 10 años se han producido 231 ataques de tiburón, de los cuales, 28 fueron mortales."
   ]
  },
  {
   "cell_type": "code",
   "execution_count": 109,
   "metadata": {},
   "outputs": [
    {
     "data": {
      "text/plain": [
       "2016    22\n",
       "2015    30\n",
       "2014    29\n",
       "2013    20\n",
       "2012    26\n",
       "2011    20\n",
       "2010    18\n",
       "2009    27\n",
       "2008    20\n",
       "2007    19\n",
       "Name: Year, dtype: int64"
      ]
     },
     "metadata": {},
     "output_type": "display_data"
    },
    {
     "data": {
      "text/plain": [
       "N          202\n",
       "Y           28\n",
       "UNKNOWN      1\n",
       "Name: Fatal (Y/N), dtype: int64"
      ]
     },
     "execution_count": 109,
     "metadata": {},
     "output_type": "execute_result"
    }
   ],
   "source": [
    "display(ausdata.Year.value_counts().sort_index(ascending = False).head(10))\n",
    "ausdaya = data1[(data1['Country']=='AUSTRALIA')&(data1['Year']>=2007)]\n",
    "ausdaya[\"Fatal (Y/N)\"].value_counts()\n",
    "\n",
    "\n",
    "\n",
    "\n",
    "\n",
    "\n"
   ]
  },
  {
   "cell_type": "markdown",
   "metadata": {},
   "source": [
    "### Los meses donde más ataque se producen son Enero y Diciembre entre las 09:00h y las 12:00h."
   ]
  },
  {
   "cell_type": "code",
   "execution_count": 110,
   "metadata": {},
   "outputs": [
    {
     "data": {
      "text/plain": [
       "Unknown    36\n",
       "Jan        31\n",
       "Dec        29\n",
       "Name: Month, dtype: int64"
      ]
     },
     "metadata": {},
     "output_type": "display_data"
    },
    {
     "data": {
      "text/plain": [
       "Unknown    74\n",
       "11h        16\n",
       "10h        16\n",
       "12h        14\n",
       "09h        14\n",
       "Name: Hour, dtype: int64"
      ]
     },
     "execution_count": 110,
     "metadata": {},
     "output_type": "execute_result"
    }
   ],
   "source": [
    "display(ausdaya.Month.value_counts().head(3))\n",
    "ausdaya.Hour.value_counts().head()"
   ]
  },
  {
   "cell_type": "markdown",
   "metadata": {},
   "source": [
    "### El 71,36% de los ataques se producen surfeando, pescando o nadando, siendoel surf la actividad con más ataques registrados en los últimos 10 años"
   ]
  },
  {
   "cell_type": "code",
   "execution_count": 111,
   "metadata": {},
   "outputs": [
    {
     "data": {
      "text/plain": [
       "Surfing         42.857143\n",
       "Fishing         18.181818\n",
       "Swiming         10.389610\n",
       "Other            8.658009\n",
       "Diving           5.627706\n",
       "Bodyboarding     5.194805\n",
       "Snorkeling       3.896104\n",
       "Kayaking         3.030303\n",
       "Paddling         1.298701\n",
       "Windsurfing      0.432900\n",
       "Kite             0.432900\n",
       "Name: Activity, dtype: float64"
      ]
     },
     "execution_count": 111,
     "metadata": {},
     "output_type": "execute_result"
    }
   ],
   "source": [
    "ausdaya.Activity.value_counts()/231*100"
   ]
  },
  {
   "cell_type": "markdown",
   "metadata": {},
   "source": [
    "### El número de ataques mientras se realiza surf ha aumentado un 135% comparando los registros desde 1900 y los de los últimos 10 años, lo que probablemente suponga un aumento de la popularidad del surf en Australia en los últimos años."
   ]
  },
  {
   "cell_type": "code",
   "execution_count": 112,
   "metadata": {},
   "outputs": [
    {
     "data": {
      "text/plain": [
       "Swiming          20.883165\n",
       "Other            20.239190\n",
       "Fishing          19.227231\n",
       "Surfing          18.215271\n",
       "Diving           11.591536\n",
       "Bodyboarding      2.299908\n",
       "Snorkeling        1.747930\n",
       "Standing          1.563937\n",
       "Kayaking          1.287948\n",
       "Paddling          0.643974\n",
       "Shark Fishing     0.551978\n",
       "Sea Disaster      0.551978\n",
       "Sailing           0.367985\n",
       "Windsurfing       0.275989\n",
       "Unknown           0.275989\n",
       "Playing           0.091996\n",
       "Jumping           0.091996\n",
       "Kite              0.091996\n",
       "Name: Activity, dtype: float64"
      ]
     },
     "execution_count": 112,
     "metadata": {},
     "output_type": "execute_result"
    }
   ],
   "source": [
    "ausdata.Activity.value_counts()/1087*100"
   ]
  },
  {
   "cell_type": "markdown",
   "metadata": {},
   "source": [
    "### Las regiones con mayor número de ataques en los últimos 10 años son: New South Wales, Western Australia y Queensland. Podemos estimar que son los lugares más populares para hacer surf, pescar o con buenas playas para bañarse en Australia."
   ]
  },
  {
   "cell_type": "code",
   "execution_count": 113,
   "metadata": {},
   "outputs": [
    {
     "data": {
      "text/plain": [
       "Country    Area             \n",
       "AUSTRALIA  New South Wales      105\n",
       "           Queensland            33\n",
       "           Western Australia     55\n",
       "dtype: int64"
      ]
     },
     "execution_count": 113,
     "metadata": {},
     "output_type": "execute_result"
    }
   ],
   "source": [
    "area = ausdaya.groupby(['Country','Area']).size()\n",
    "area = area.drop(area[area < 20].index)\n",
    "area"
   ]
  },
  {
   "cell_type": "markdown",
   "metadata": {},
   "source": [
    "### Solo el 12,27% de los ataques se producen a mujeres "
   ]
  },
  {
   "cell_type": "code",
   "execution_count": 114,
   "metadata": {},
   "outputs": [
    {
     "data": {
      "text/plain": [
       "M          193\n",
       "F           27\n",
       "Unknown     11\n",
       "Name: Sex, dtype: int64"
      ]
     },
     "execution_count": 114,
     "metadata": {},
     "output_type": "execute_result"
    }
   ],
   "source": [
    "ausdaya.Sex.value_counts()"
   ]
  },
  {
   "cell_type": "markdown",
   "metadata": {},
   "source": [
    "## CSV"
   ]
  },
  {
   "cell_type": "code",
   "execution_count": 115,
   "metadata": {},
   "outputs": [],
   "source": [
    "data.to_csv('sharkattack.csv', index=False)"
   ]
  }
 ],
 "metadata": {
  "kernelspec": {
   "display_name": "Python 3",
   "language": "python",
   "name": "python3"
  },
  "language_info": {
   "codemirror_mode": {
    "name": "ipython",
    "version": 3
   },
   "file_extension": ".py",
   "mimetype": "text/x-python",
   "name": "python",
   "nbconvert_exporter": "python",
   "pygments_lexer": "ipython3",
   "version": "3.7.2"
  }
 },
 "nbformat": 4,
 "nbformat_minor": 2
}
