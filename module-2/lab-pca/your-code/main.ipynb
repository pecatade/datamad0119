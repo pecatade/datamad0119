{
 "cells": [
  {
   "cell_type": "markdown",
   "metadata": {},
   "source": [
    "# Before your start:\n",
    "- Read the README.md file\n",
    "- Comment as much as you can and use the resources (README.md file)\n",
    "- Happy learning!"
   ]
  },
  {
   "cell_type": "code",
   "execution_count": 1,
   "metadata": {},
   "outputs": [],
   "source": [
    "# Run this code:\n",
    "\n",
    "%matplotlib inline\n",
    "\n",
    "import matplotlib.pyplot as plt"
   ]
  },
  {
   "cell_type": "code",
   "execution_count": 2,
   "metadata": {},
   "outputs": [],
   "source": [
    "# Import numpy and pandas:\n",
    "import numpy as np\n",
    "import pandas as pd\n"
   ]
  },
  {
   "cell_type": "markdown",
   "metadata": {},
   "source": [
    "# Challenge 1 - Reading and Standardizing the Data\n",
    "\n",
    "In this challenge we will work with image data and reduce the dimensions of the data to create a 2 dimensional plot. While we have not worked much with image data before, it can be represented as a numpy array where each pixel is assigned a numeric value. In this lesson, we will look at a dataset of cats and a dataset of dogs and see whether reducing them to two dimensions allows us to see if the data is separable. We will start by loading and processing the data. Run the cell below to load the two csv files and convert them into numpy arrays."
   ]
  },
  {
   "cell_type": "code",
   "execution_count": 3,
   "metadata": {},
   "outputs": [],
   "source": [
    "# Run this code\n",
    "\n",
    "cats = np.array(pd.read_csv(\"https://raw.githubusercontent.com/bioramble/pca/master/cat.csv\", header=None))\n",
    "dogs = np.array(pd.read_csv(\"https://raw.githubusercontent.com/bioramble/pca/master/dog.csv\", header=None))"
   ]
  },
  {
   "cell_type": "markdown",
   "metadata": {},
   "source": [
    "Next, we'll examine the shape of both the cats and the dogs arrays. Print out both shapes below."
   ]
  },
  {
   "cell_type": "code",
   "execution_count": 10,
   "metadata": {},
   "outputs": [
    {
     "data": {
      "text/plain": [
       "(4096, 80)"
      ]
     },
     "execution_count": 10,
     "metadata": {},
     "output_type": "execute_result"
    }
   ],
   "source": [
    "# Your code here:\n",
    "cats.shape\n",
    "dogs.shape"
   ]
  },
  {
   "cell_type": "markdown",
   "metadata": {},
   "source": [
    "What this means is that both arrays contain 80 images each (the number of columns). Each image is comprised of 64x64 pixels (so a total of 4096 pixels per image). The images have been flattened such that all 4096 are in a single row.\n",
    "\n",
    "Print out column 0 of the cats array to see what the pixels values look like."
   ]
  },
  {
   "cell_type": "code",
   "execution_count": 13,
   "metadata": {},
   "outputs": [
    {
     "data": {
      "text/plain": [
       "array([64, 64, 64, ..., 64, 64, 61])"
      ]
     },
     "execution_count": 13,
     "metadata": {},
     "output_type": "execute_result"
    }
   ],
   "source": [
    "# Your code here:\n",
    "cats[:,0]"
   ]
  },
  {
   "cell_type": "markdown",
   "metadata": {},
   "source": [
    "Using `matplotlib` we can plot a single cat or a single dog. We do this by reshaping the vector back to a 64x64 image and then using the `imshow` function.\n",
    "\n",
    "Run the code below to look at the first dog and the first cat."
   ]
  },
  {
   "cell_type": "code",
   "execution_count": 7,
   "metadata": {},
   "outputs": [
    {
     "data": {
      "text/plain": [
       "<matplotlib.image.AxesImage at 0x1126a16d8>"
      ]
     },
     "execution_count": 7,
     "metadata": {},
     "output_type": "execute_result"
    },
    {
     "data": {
      "image/png": "[encoded data removed]",
      "text/plain": [
       "<Figure size 432x288 with 1 Axes>"
      ]
     },
     "metadata": {
      "needs_background": "light"
     },
     "output_type": "display_data"
    }
   ],
   "source": [
    "# Run this code:\n",
    "\n",
    "fig, ax = plt.subplots()\n",
    "ax.imshow(cats[:,2].reshape(64, 64).T, cmap=plt.cm.bone, interpolation='nearest') "
   ]
  },
  {
   "cell_type": "code",
   "execution_count": 5,
   "metadata": {},
   "outputs": [
    {
     "data": {
      "text/plain": [
       "<matplotlib.image.AxesImage at 0x10f468cc0>"
      ]
     },
     "execution_count": 5,
     "metadata": {},
     "output_type": "execute_result"
    },
    {
     "data": {
      "image/png": "[encoded data removed]",
      "text/plain": [
       "<Figure size 432x288 with 1 Axes>"
      ]
     },
     "metadata": {
      "needs_background": "light"
     },
     "output_type": "display_data"
    }
   ],
   "source": [
    "# Run this code:\n",
    "\n",
    "fig, ax = plt.subplots()\n",
    "ax.imshow(dogs[:,0].reshape(64, 64).T, cmap=plt.cm.bone, interpolation='nearest') "
   ]
  },
  {
   "cell_type": "markdown",
   "metadata": {},
   "source": [
    "Next, we would like to create a standardization function. This function will find the mean and standard deviation of each image. We subtract the mean from each pixel and divide each pixel by the standard deviation. Write the function below.\n",
    "\n",
    "Hint: To find the mean and standard deviation of each image, use `numpy`'s version of mean and stadnard deviation and use `axis=0`."
   ]
  },
  {
   "cell_type": "code",
   "execution_count": 40,
   "metadata": {},
   "outputs": [
    {
     "data": {
      "text/plain": [
       "array([[ 58.60961914, 105.92651367,  76.70654297,  75.40576172,\n",
       "         68.93774414, 124.59277344,  81.84619141,  98.37060547,\n",
       "        128.23486328, 138.37109375, 131.01000977, 170.98510742,\n",
       "        141.52563477,  85.37011719, 125.72973633, 114.515625  ,\n",
       "        118.96118164,  84.36132812,  86.71630859, 158.82299805,\n",
       "         53.68920898, 130.87109375, 152.79003906, 169.81323242,\n",
       "         66.42626953, 122.22705078,  84.70336914, 173.52294922,\n",
       "        124.28417969, 109.91650391,  89.74658203,  71.20239258,\n",
       "         93.21337891,  58.1550293 , 117.23413086, 180.37719727,\n",
       "         98.83837891, 143.53344727, 136.16748047,  43.03051758,\n",
       "        137.52270508,  69.82495117, 141.43164062, 170.62817383,\n",
       "        174.93212891, 187.10913086, 189.74609375, 154.75366211,\n",
       "        121.72998047, 101.93725586,  68.96020508, 106.49291992,\n",
       "        114.39868164, 143.00195312, 157.80444336, 116.49731445,\n",
       "        103.53881836, 122.97924805, 119.79345703, 157.18652344,\n",
       "        131.90185547,  88.17553711,  81.78369141, 138.07592773,\n",
       "        138.16577148, 118.41040039, 103.95532227,  86.4074707 ,\n",
       "        130.89404297, 153.68603516, 118.29077148, 115.99633789,\n",
       "         97.88745117, 111.52514648, 108.92480469, 113.12426758,\n",
       "        125.55737305, 130.51489258, 141.3737793 , 109.18579102],\n",
       "       [ 63.54083483,  55.05342948,  96.22107579,  42.96377137,\n",
       "         57.44792378,  62.28054978,  55.96826821,  51.26000622,\n",
       "         68.82531752,  76.29355816,  48.29057502,  54.21961926,\n",
       "         67.51638493,  56.29031737,  62.82928068,  30.60020122,\n",
       "         52.19689948,  54.52922013,  52.65832792,  54.14346961,\n",
       "         57.05866927,  75.27339483,  59.20283723,  53.44195459,\n",
       "         72.82675848,  55.36435344,  47.36381225,  64.4733204 ,\n",
       "         51.92344127,  47.11854814,  44.34041057,  76.55561069,\n",
       "         61.80528646,  90.00324777,  47.67908897,  46.27695643,\n",
       "         66.93139964,  55.19650491,  57.64545781,  48.69005024,\n",
       "         46.5723875 ,  80.41545184,  60.69968994,  42.82566719,\n",
       "         76.36164843,  33.41360207,  34.24949367,  74.99337283,\n",
       "         68.55681551,  35.98625387,  66.78793345,  42.49268605,\n",
       "         56.2258237 ,  62.65667469,  45.97060977,  43.58760589,\n",
       "         84.51332964,  47.18754976,  49.94796429,  49.77835516,\n",
       "         38.49131949,  38.81452789,  57.88293925,  57.74085803,\n",
       "         62.90148866,  51.96500362,  65.83188896,  57.8063361 ,\n",
       "         33.3196815 ,  54.49292672,  45.23953903,  55.92957116,\n",
       "         41.98795143,  41.42002545,  62.59846314,  42.08075543,\n",
       "         55.3095173 ,  38.99785617,  57.36469463,  40.19746065]])"
      ]
     },
     "execution_count": 40,
     "metadata": {},
     "output_type": "execute_result"
    }
   ],
   "source": [
    "def standardize(x):\n",
    "    #This function takes as input a numpy array and returns a stadardized numpy array of the same dimensions.\n",
    "    #Sample input: np.array([[1,2,3],[4,5,6]])\n",
    "    #Sample output: np.array([[-1,-1,-1],[1,1,1]])\n",
    "    \n",
    "    # Your code here:\n",
    "    return np.array([np.mean(x, axis = 0), np.std(x, axis = 0)])\n",
    "\n",
    "standardize(cats)"
   ]
  },
  {
   "cell_type": "markdown",
   "metadata": {},
   "source": [
    "Now, use the `np.concatenate` function to combine the cats and dogs arrays. Use `axis=1` to combine the two correctly. Make sure to put dogs first."
   ]
  },
  {
   "cell_type": "code",
   "execution_count": 21,
   "metadata": {},
   "outputs": [],
   "source": [
    "# Your code here:\n",
    "con = np.concatenate((cats,dogs), axis=1)\n"
   ]
  },
  {
   "cell_type": "markdown",
   "metadata": {},
   "source": [
    "Standardize the concatenated array below."
   ]
  },
  {
   "cell_type": "code",
   "execution_count": 38,
   "metadata": {},
   "outputs": [
    {
     "data": {
      "text/plain": [
       "array([[ 58.60961914, 105.92651367,  76.70654297,  75.40576172,\n",
       "         68.93774414, 124.59277344,  81.84619141,  98.37060547,\n",
       "        128.23486328, 138.37109375, 131.01000977, 170.98510742,\n",
       "        141.52563477,  85.37011719, 125.72973633, 114.515625  ,\n",
       "        118.96118164,  84.36132812,  86.71630859, 158.82299805,\n",
       "         53.68920898, 130.87109375, 152.79003906, 169.81323242,\n",
       "         66.42626953, 122.22705078,  84.70336914, 173.52294922,\n",
       "        124.28417969, 109.91650391,  89.74658203,  71.20239258,\n",
       "         93.21337891,  58.1550293 , 117.23413086, 180.37719727,\n",
       "         98.83837891, 143.53344727, 136.16748047,  43.03051758,\n",
       "        137.52270508,  69.82495117, 141.43164062, 170.62817383,\n",
       "        174.93212891, 187.10913086, 189.74609375, 154.75366211,\n",
       "        121.72998047, 101.93725586,  68.96020508, 106.49291992,\n",
       "        114.39868164, 143.00195312, 157.80444336, 116.49731445,\n",
       "        103.53881836, 122.97924805, 119.79345703, 157.18652344,\n",
       "        131.90185547,  88.17553711,  81.78369141, 138.07592773,\n",
       "        138.16577148, 118.41040039, 103.95532227,  86.4074707 ,\n",
       "        130.89404297, 153.68603516, 118.29077148, 115.99633789,\n",
       "         97.88745117, 111.52514648, 108.92480469, 113.12426758,\n",
       "        125.55737305, 130.51489258, 141.3737793 , 109.18579102,\n",
       "         86.87036133, 153.08520508,  89.57641602, 139.72192383,\n",
       "        107.21875   , 110.53344727, 145.91333008, 129.62426758,\n",
       "        100.31518555, 111.27929688, 113.30200195,  86.80859375,\n",
       "        156.45678711,  74.37402344, 115.13525391, 105.3894043 ,\n",
       "        100.39916992, 124.72558594,  98.86450195,  86.07519531,\n",
       "         92.5012207 , 123.43237305,  75.37109375, 160.19702148,\n",
       "        148.74169922, 151.13037109,  71.95288086, 108.87255859,\n",
       "         98.92504883, 147.12084961, 126.89355469, 154.64526367,\n",
       "        119.2824707 , 176.171875  , 145.37915039, 144.5625    ,\n",
       "         92.09887695, 159.39038086, 166.60107422, 147.01123047,\n",
       "        132.97436523, 102.68286133, 175.25024414, 152.51489258,\n",
       "        136.30737305, 136.74975586, 143.38769531, 156.63818359,\n",
       "        117.11816406, 157.01293945, 116.62890625,  63.30932617,\n",
       "         53.11645508, 101.4765625 , 127.13842773, 100.30419922,\n",
       "        110.2265625 , 122.6628418 , 116.25756836, 108.06518555,\n",
       "        125.9387207 , 114.57177734, 137.43823242,  83.06494141,\n",
       "        182.51611328, 143.42382812,  85.41186523, 111.20800781,\n",
       "        143.25927734, 117.7902832 , 150.36206055, 147.27270508,\n",
       "        114.65332031, 159.74584961, 105.9519043 , 129.49829102,\n",
       "        108.67602539, 113.12573242, 145.8293457 , 100.27246094],\n",
       "       [ 63.54083483,  55.05342948,  96.22107579,  42.96377137,\n",
       "         57.44792378,  62.28054978,  55.96826821,  51.26000622,\n",
       "         68.82531752,  76.29355816,  48.29057502,  54.21961926,\n",
       "         67.51638493,  56.29031737,  62.82928068,  30.60020122,\n",
       "         52.19689948,  54.52922013,  52.65832792,  54.14346961,\n",
       "         57.05866927,  75.27339483,  59.20283723,  53.44195459,\n",
       "         72.82675848,  55.36435344,  47.36381225,  64.4733204 ,\n",
       "         51.92344127,  47.11854814,  44.34041057,  76.55561069,\n",
       "         61.80528646,  90.00324777,  47.67908897,  46.27695643,\n",
       "         66.93139964,  55.19650491,  57.64545781,  48.69005024,\n",
       "         46.5723875 ,  80.41545184,  60.69968994,  42.82566719,\n",
       "         76.36164843,  33.41360207,  34.24949367,  74.99337283,\n",
       "         68.55681551,  35.98625387,  66.78793345,  42.49268605,\n",
       "         56.2258237 ,  62.65667469,  45.97060977,  43.58760589,\n",
       "         84.51332964,  47.18754976,  49.94796429,  49.77835516,\n",
       "         38.49131949,  38.81452789,  57.88293925,  57.74085803,\n",
       "         62.90148866,  51.96500362,  65.83188896,  57.8063361 ,\n",
       "         33.3196815 ,  54.49292672,  45.23953903,  55.92957116,\n",
       "         41.98795143,  41.42002545,  62.59846314,  42.08075543,\n",
       "         55.3095173 ,  38.99785617,  57.36469463,  40.19746065,\n",
       "         57.6992179 ,  71.81479011,  40.13043942,  44.96693195,\n",
       "         48.96451202,  75.36533646,  52.48835025,  66.09320838,\n",
       "         51.11396316,  61.13470192,  55.61186955,  33.39476657,\n",
       "         40.8111132 ,  32.76523007,  64.75842856,  43.75351521,\n",
       "         53.79716398,  55.87589913,  44.42366884,  65.63242674,\n",
       "         61.68785222,  74.35005698,  54.26042602,  72.53882312,\n",
       "         66.10350977,  78.12739743,  52.44355668,  47.22705677,\n",
       "         76.86948975,  60.96084725,  57.62239349,  59.02317964,\n",
       "         62.8386998 ,  62.3995071 ,  86.99651767,  59.52553696,\n",
       "         41.73353248,  58.86118713,  67.81262269,  64.26773429,\n",
       "         57.24180803,  29.18210033,  55.52377662,  61.44208777,\n",
       "         60.09461944,  63.66460369,  81.42568497,  58.56260378,\n",
       "         73.72796746,  64.0355704 ,  53.59631448,  56.16233421,\n",
       "         32.68448036,  57.46363012,  43.70625188,  69.81897451,\n",
       "         47.99436854,  41.83949458,  70.97327922,  48.46975135,\n",
       "         56.17385388,  43.17211222,  64.19476128,  43.97277746,\n",
       "         67.4405354 ,  60.3351727 ,  70.03854649,  78.24793574,\n",
       "         75.74748063,  60.36742329,  61.16809348,  57.24144994,\n",
       "         69.26079725,  49.09810718,  50.69573455,  50.99429825,\n",
       "         58.25719822,  89.24098651,  58.94535281,  68.84172137]])"
      ]
     },
     "execution_count": 38,
     "metadata": {},
     "output_type": "execute_result"
    }
   ],
   "source": [
    "# Your code here:\n",
    "cons = standardize(con)\n",
    "cons"
   ]
  },
  {
   "cell_type": "markdown",
   "metadata": {},
   "source": [
    "# Challenge 2 - Using PCA\n",
    "\n",
    "Now that we have created a standardized matrix of cats and dogs, we'll find the two most important components in the data.\n",
    "\n",
    "Load the `PCA` function from `statsmodels` (read about this function [here](https://www.statsmodels.org/dev/generated/statsmodels.multivariate.pca.PCA.html)) and apply the function to our standarized data. Create a PCA model with two components."
   ]
  },
  {
   "cell_type": "code",
   "execution_count": 41,
   "metadata": {},
   "outputs": [
    {
     "data": {
      "text/plain": [
       "Principal Component Analysis(nobs: 2, nvar: 160, transformation: Standardize (Correlation), normalization: True, number of components: 2, SVD, id: 0x119d93390)"
      ]
     },
     "execution_count": 41,
     "metadata": {},
     "output_type": "execute_result"
    }
   ],
   "source": [
    "# Your code here:\n",
    "from statsmodels.multivariate.pca import PCA\n",
    "\n",
    "PCA(cons)\n"
   ]
  },
  {
   "cell_type": "markdown",
   "metadata": {},
   "source": [
    "Use `numpy` to find to transpose the standardized pet array. This will help us compute the projection."
   ]
  },
  {
   "cell_type": "code",
   "execution_count": 13,
   "metadata": {},
   "outputs": [],
   "source": [
    "# Your code here:\n",
    "\n"
   ]
  },
  {
   "cell_type": "markdown",
   "metadata": {},
   "source": [
    "Find the dot product of the transposed standardized pet matrix and the `factors` of the `PCA` model found above. This will be the projection onto 2 dimensions. This means that each cat and dog image will now only have two columns instead of 4096."
   ]
  },
  {
   "cell_type": "code",
   "execution_count": 14,
   "metadata": {},
   "outputs": [],
   "source": [
    "# Your code here:\n",
    "\n"
   ]
  },
  {
   "cell_type": "markdown",
   "metadata": {},
   "source": [
    "# Challenge 3 - Plotting the Data\n",
    "\n",
    "Now that we have reduced our cats and dogs arrays, we can easily plot the data in a way that the human eye can understand. We can look at this plot to see whether there are differences between the cat and dog images. \n",
    "\n",
    "In the cell below, turn the two dimensional projection into a pandas dataframe and name the columns `pc1`, and `pc2` respectively."
   ]
  },
  {
   "cell_type": "code",
   "execution_count": 15,
   "metadata": {},
   "outputs": [],
   "source": [
    "# Your code here:\n",
    "\n"
   ]
  },
  {
   "cell_type": "markdown",
   "metadata": {},
   "source": [
    "Create a labels list. This list will be of size 160. The first 80 elements in the list will be the word `blue`, and the last 80 elements will be `red`. This will ensure that all dog observations will be colored in blue and all cats will be colored in red. Name this list `colors`."
   ]
  },
  {
   "cell_type": "code",
   "execution_count": 16,
   "metadata": {},
   "outputs": [],
   "source": [
    "# Your code here:\n",
    "\n"
   ]
  },
  {
   "cell_type": "markdown",
   "metadata": {},
   "source": [
    "Create a scatter plot of `pc1` and `pc2` below. Use the `colors` list above to color the observations by setting `c=colors`."
   ]
  },
  {
   "cell_type": "code",
   "execution_count": 17,
   "metadata": {},
   "outputs": [],
   "source": [
    "# Your code here:\n",
    "\n"
   ]
  },
  {
   "cell_type": "markdown",
   "metadata": {},
   "source": [
    "Do you see a clear separation between cats and dogs? Write your answer below."
   ]
  },
  {
   "cell_type": "code",
   "execution_count": 18,
   "metadata": {},
   "outputs": [],
   "source": [
    "# Your conclusions here:\n",
    "\n"
   ]
  },
  {
   "cell_type": "code",
   "execution_count": null,
   "metadata": {},
   "outputs": [],
   "source": []
  }
 ],
 "metadata": {
  "kernelspec": {
   "display_name": "Python 3",
   "language": "python",
   "name": "python3"
  },
  "language_info": {
   "codemirror_mode": {
    "name": "ipython",
    "version": 3
   },
   "file_extension": ".py",
   "mimetype": "text/x-python",
   "name": "python",
   "nbconvert_exporter": "python",
   "pygments_lexer": "ipython3",
   "version": "3.7.2"
  }
 },
 "nbformat": 4,
 "nbformat_minor": 2
}
