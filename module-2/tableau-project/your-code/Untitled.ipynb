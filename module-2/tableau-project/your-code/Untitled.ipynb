{
 "cells": [
  {
   "cell_type": "code",
   "execution_count": 37,
   "metadata": {},
   "outputs": [],
   "source": [
    "import pymongo\n",
    "import pandas as pd\n",
    "MongoClient = pymongo.MongoClient\n",
    "client = MongoClient()\n",
    "db = client.companies\n",
    "companies = db['companies']"
   ]
  },
  {
   "cell_type": "code",
   "execution_count": 38,
   "metadata": {},
   "outputs": [
    {
     "data": {
      "text/plain": [
       "3791"
      ]
     },
     "execution_count": 38,
     "metadata": {},
     "output_type": "execute_result"
    }
   ],
   "source": [
    "def convert_companies(company): \n",
    "    return {\n",
    "        \"name\": company[\"name\"],\n",
    "        \"category_code\": company[\"category_code\"],\n",
    "        \"founded_year\": company[\"founded_year\"],\n",
    "        \"number_of_employees\": company[\"number_of_employees\"],\n",
    "        \"total_money_raised\": company[\"total_money_raised\"],\n",
    "        \"offices\": company[\"offices\"]\n",
    "        }\n",
    "\n",
    "cursor = companies.find(\n",
    "    {\"$and\":\n",
    "     [\n",
    "         {\"offices.latitude\": {\"$exists\": True}},\n",
    "         {\"founded_year\": {\"$gte\": 2005}}, \n",
    "         {\"$or\": [\n",
    "             {\"category_code\": \"web\"},\n",
    "             {\"category_code\": \"software\"},\n",
    "             {\"category_code\": \"games_video\"},\n",
    "             {\"category_code\": \"mobile\"},\n",
    "             {\"category_code\": \"social\"},\n",
    "             {\"category_code\": \"search\"},\n",
    "             {\"category_code\": \"cleantech\"}\n",
    "         ]\n",
    "         }\n",
    "     ]\n",
    "    })\n",
    "\n",
    "geoCompanies = list(map(lambda r: convert_companies(r), cursor))\n",
    "len(geoCompanies)"
   ]
  },
  {
   "cell_type": "code",
   "execution_count": 39,
   "metadata": {},
   "outputs": [
    {
     "data": {
      "text/plain": [
       "4318"
      ]
     },
     "execution_count": 39,
     "metadata": {},
     "output_type": "execute_result"
    }
   ],
   "source": [
    "def convert_offices(company):\n",
    "    companies = []\n",
    "    for x in geoCompanies:\n",
    "        for i, y in enumerate(x[\"offices\"]):\n",
    "            z = {\n",
    "            \"name\": x[\"name\"] + \"_office_\" + str(i +1),\n",
    "            \"category_code\": x[\"category_code\"],\n",
    "            \"founded_year\": x[\"founded_year\"],\n",
    "            \"number_of_employees\": x[\"number_of_employees\"],\n",
    "            \"total_money_raised\": x[\"total_money_raised\"],\n",
    "            'latitude': y['latitude'],\n",
    "            'longitude': y['longitude']}\n",
    "            companies.append(z)\n",
    "    return companies\n",
    "\n",
    "offices = convert_offices(geoCompanies)\n",
    "len(offices)"
   ]
  },
  {
   "cell_type": "code",
   "execution_count": 40,
   "metadata": {},
   "outputs": [
    {
     "data": {
      "text/html": [
       "<div>\n",
       "<style scoped>\n",
       "    .dataframe tbody tr th:only-of-type {\n",
       "        vertical-align: middle;\n",
       "    }\n",
       "\n",
       "    .dataframe tbody tr th {\n",
       "        vertical-align: top;\n",
       "    }\n",
       "\n",
       "    .dataframe thead th {\n",
       "        text-align: right;\n",
       "    }\n",
       "</style>\n",
       "<table border=\"1\" class=\"dataframe\">\n",
       "  <thead>\n",
       "    <tr style=\"text-align: right;\">\n",
       "      <th></th>\n",
       "      <th>category_code</th>\n",
       "      <th>founded_year</th>\n",
       "      <th>latitude</th>\n",
       "      <th>longitude</th>\n",
       "      <th>name</th>\n",
       "      <th>number_of_employees</th>\n",
       "      <th>total_money_raised</th>\n",
       "    </tr>\n",
       "  </thead>\n",
       "  <tbody>\n",
       "    <tr>\n",
       "      <th>0</th>\n",
       "      <td>web</td>\n",
       "      <td>2005</td>\n",
       "      <td>47.603122</td>\n",
       "      <td>-122.333253</td>\n",
       "      <td>Wetpaint_office_1</td>\n",
       "      <td>47.0</td>\n",
       "      <td>$39.8M</td>\n",
       "    </tr>\n",
       "    <tr>\n",
       "      <th>1</th>\n",
       "      <td>web</td>\n",
       "      <td>2005</td>\n",
       "      <td>40.723731</td>\n",
       "      <td>-73.996431</td>\n",
       "      <td>Wetpaint_office_2</td>\n",
       "      <td>47.0</td>\n",
       "      <td>$39.8M</td>\n",
       "    </tr>\n",
       "    <tr>\n",
       "      <th>2</th>\n",
       "      <td>software</td>\n",
       "      <td>2005</td>\n",
       "      <td>37.692934</td>\n",
       "      <td>-121.904945</td>\n",
       "      <td>Zoho_office_1</td>\n",
       "      <td>1600.0</td>\n",
       "      <td>$0</td>\n",
       "    </tr>\n",
       "    <tr>\n",
       "      <th>3</th>\n",
       "      <td>web</td>\n",
       "      <td>2006</td>\n",
       "      <td>34.090368</td>\n",
       "      <td>-118.393064</td>\n",
       "      <td>Geni_office_1</td>\n",
       "      <td>18.0</td>\n",
       "      <td>$16.5M</td>\n",
       "    </tr>\n",
       "    <tr>\n",
       "      <th>4</th>\n",
       "      <td>mobile</td>\n",
       "      <td>2005</td>\n",
       "      <td>34.057498</td>\n",
       "      <td>-118.446596</td>\n",
       "      <td>Helio_office_1</td>\n",
       "      <td>NaN</td>\n",
       "      <td>$0</td>\n",
       "    </tr>\n",
       "  </tbody>\n",
       "</table>\n",
       "</div>"
      ],
      "text/plain": [
       "  category_code  founded_year   latitude   longitude               name  \\\n",
       "0           web          2005  47.603122 -122.333253  Wetpaint_office_1   \n",
       "1           web          2005  40.723731  -73.996431  Wetpaint_office_2   \n",
       "2      software          2005  37.692934 -121.904945      Zoho_office_1   \n",
       "3           web          2006  34.090368 -118.393064      Geni_office_1   \n",
       "4        mobile          2005  34.057498 -118.446596     Helio_office_1   \n",
       "\n",
       "   number_of_employees total_money_raised  \n",
       "0                 47.0             $39.8M  \n",
       "1                 47.0             $39.8M  \n",
       "2               1600.0                 $0  \n",
       "3                 18.0             $16.5M  \n",
       "4                  NaN                 $0  "
      ]
     },
     "execution_count": 40,
     "metadata": {},
     "output_type": "execute_result"
    }
   ],
   "source": [
    "df = pd.DataFrame(offices)\n",
    "df.head()"
   ]
  },
  {
   "cell_type": "code",
   "execution_count": 41,
   "metadata": {},
   "outputs": [
    {
     "data": {
      "text/plain": [
       "number_of_employees    823\n",
       "dtype: int64"
      ]
     },
     "execution_count": 41,
     "metadata": {},
     "output_type": "execute_result"
    }
   ],
   "source": [
    "df = df.dropna(subset= [\"latitude\", \"longitude\"])\n",
    "null_cols = df.isnull().sum()\n",
    "null_cols[null_cols > 0]"
   ]
  },
  {
   "cell_type": "code",
   "execution_count": 42,
   "metadata": {},
   "outputs": [],
   "source": [
    "df = df[['name','category_code','founded_year','number_of_employees','total_money_raised','latitude','longitude']]"
   ]
  },
  {
   "cell_type": "code",
   "execution_count": 43,
   "metadata": {
    "scrolled": true
   },
   "outputs": [
    {
     "data": {
      "text/plain": [
       "web            1395\n",
       "software        715\n",
       "games_video     418\n",
       "mobile          334\n",
       "search          150\n",
       "cleantech        81\n",
       "social           40\n",
       "Name: category_code, dtype: int64"
      ]
     },
     "execution_count": 43,
     "metadata": {},
     "output_type": "execute_result"
    }
   ],
   "source": [
    "df[\"category_code\"].value_counts()"
   ]
  },
  {
   "cell_type": "code",
   "execution_count": 44,
   "metadata": {},
   "outputs": [],
   "source": [
    "position = []\n",
    "for i in range(len(df)):\n",
    "    lat = df.iloc[i][\"latitude\"]\n",
    "    lon = df.iloc[i][\"longitude\"]\n",
    "    point = {\"type\":\"Point\", \"coordinates\": [lon,lat]}\n",
    "    position.append(point)\n",
    "    \n",
    "df[\"position\"] = position"
   ]
  },
  {
   "cell_type": "code",
   "execution_count": 45,
   "metadata": {},
   "outputs": [],
   "source": [
    "for i,x in enumerate(df[\"total_money_raised\"]):\n",
    "    x = x.replace(\"$\", \"\").replace(\"€\", \"\").replace(\"£\", \"\").replace(\"¥\", \"\").replace(\"C\", \"\")\n",
    "    if \"M\" in x:\n",
    "        x = x.replace(\"M\", \"\")\n",
    "        df[\"total_money_raised\"].iloc[i] = float(x)*1000000\n",
    "    elif \"k\" in x:\n",
    "        x = x.replace(\"k\", \"\")\n",
    "        df[\"total_money_raised\"].iloc[i] = float(x)*1000\n",
    "    elif \"B\" in x:\n",
    "        x = x.replace(\"B\", \"\")\n",
    "        df[\"total_money_raised\"].iloc[i] = float(x)*1000000000\n",
    "    else:\n",
    "        df[\"total_money_raised\"].iloc[i] = float(x)\n"
   ]
  },
  {
   "cell_type": "code",
   "execution_count": 46,
   "metadata": {},
   "outputs": [
    {
     "data": {
      "text/plain": [
       "name                    object\n",
       "category_code           object\n",
       "founded_year             int64\n",
       "number_of_employees    float64\n",
       "total_money_raised     float64\n",
       "latitude               float64\n",
       "longitude              float64\n",
       "position                object\n",
       "dtype: object"
      ]
     },
     "execution_count": 46,
     "metadata": {},
     "output_type": "execute_result"
    }
   ],
   "source": [
    "df[\"total_money_raised\"] = pd.to_numeric(df.total_money_raised)\n",
    "df.dtypes"
   ]
  },
  {
   "cell_type": "code",
   "execution_count": 47,
   "metadata": {},
   "outputs": [],
   "source": [
    "df.to_json('visualize_companies.json', orient=\"records\", lines = True)"
   ]
  },
  {
   "cell_type": "code",
   "execution_count": 94,
   "metadata": {},
   "outputs": [],
   "source": [
    "cursor = []\n",
    "for x in range(len(df)):\n",
    "    lat = df.latitude.iloc[x]\n",
    "    lgtd = df.longitude.iloc[x]\n",
    "    cursor.append(list(db.clean.find({\"position\": \n",
    "                     {\"$near\": \n",
    "                      {\"$geometry\": {\"type\": \"Point\", \n",
    "                                     \"coordinates\": [lgtd, lat]},\n",
    "                       \"$maxDistance\": 5000}}})))\n",
    "    \n",
    "count = [len(e) for e in cursor]\n",
    "df[\"count\"] = count\n"
   ]
  },
  {
   "cell_type": "code",
   "execution_count": 95,
   "metadata": {},
   "outputs": [],
   "source": [
    "softcp_areas = df[df[\"count\"] >= 50]"
   ]
  },
  {
   "cell_type": "code",
   "execution_count": 96,
   "metadata": {},
   "outputs": [
    {
     "data": {
      "text/html": [
       "<div>\n",
       "<style scoped>\n",
       "    .dataframe tbody tr th:only-of-type {\n",
       "        vertical-align: middle;\n",
       "    }\n",
       "\n",
       "    .dataframe tbody tr th {\n",
       "        vertical-align: top;\n",
       "    }\n",
       "\n",
       "    .dataframe thead th {\n",
       "        text-align: right;\n",
       "    }\n",
       "</style>\n",
       "<table border=\"1\" class=\"dataframe\">\n",
       "  <thead>\n",
       "    <tr style=\"text-align: right;\">\n",
       "      <th></th>\n",
       "      <th>name</th>\n",
       "      <th>category_code</th>\n",
       "      <th>founded_year</th>\n",
       "      <th>number_of_employees</th>\n",
       "      <th>total_money_raised</th>\n",
       "      <th>latitude</th>\n",
       "      <th>longitude</th>\n",
       "      <th>position</th>\n",
       "      <th>count</th>\n",
       "    </tr>\n",
       "  </thead>\n",
       "  <tbody>\n",
       "  </tbody>\n",
       "</table>\n",
       "</div>"
      ],
      "text/plain": [
       "Empty DataFrame\n",
       "Columns: [name, category_code, founded_year, number_of_employees, total_money_raised, latitude, longitude, position, count]\n",
       "Index: []"
      ]
     },
     "execution_count": 96,
     "metadata": {},
     "output_type": "execute_result"
    }
   ],
   "source": [
    "softcp_areas[softcp_areas[\"name\"] == \"Wisevid_office_1\"]"
   ]
  },
  {
   "cell_type": "code",
   "execution_count": 97,
   "metadata": {},
   "outputs": [],
   "source": [
    "softcp_areas = softcp_areas.drop(columns=['founded_year','number_of_employees','total_money_raised','position','count'])\n",
    "softcp_areas = softcp_areas.drop_duplicates()"
   ]
  },
  {
   "cell_type": "code",
   "execution_count": 98,
   "metadata": {},
   "outputs": [],
   "source": [
    "softcp_areas.to_json('visualize_companies2.json', orient=\"records\", lines = True)"
   ]
  },
  {
   "cell_type": "code",
   "execution_count": null,
   "metadata": {},
   "outputs": [],
   "source": []
  }
 ],
 "metadata": {
  "kernelspec": {
   "display_name": "Python 3",
   "language": "python",
   "name": "python3"
  },
  "language_info": {
   "codemirror_mode": {
    "name": "ipython",
    "version": 3
   },
   "file_extension": ".py",
   "mimetype": "text/x-python",
   "name": "python",
   "nbconvert_exporter": "python",
   "pygments_lexer": "ipython3",
   "version": "3.7.2"
  }
 },
 "nbformat": 4,
 "nbformat_minor": 2
}
