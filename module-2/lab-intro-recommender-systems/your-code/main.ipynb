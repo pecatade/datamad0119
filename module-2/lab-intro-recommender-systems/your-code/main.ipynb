{
 "cells": [
  {
   "cell_type": "markdown",
   "metadata": {},
   "source": [
    "# Intro to Recommender Systems Lab\n",
    "\n",
    "Complete the exercises below to solidify your knowledge and understanding of recommender systems.\n",
    "\n",
    "For this lab, we are going to be putting together a user similarity based recommender system in a step-by-step fashion. Our data set contains customer grocery purchases, and we will use similar purchase behavior to inform our recommender system. Our recommender system will generate 5 recommendations for each customer based on the purchases they have made."
   ]
  },
  {
   "cell_type": "code",
   "execution_count": 173,
   "metadata": {},
   "outputs": [],
   "source": [
    "import pandas as pd\n",
    "from scipy.spatial.distance import pdist, squareform"
   ]
  },
  {
   "cell_type": "code",
   "execution_count": 174,
   "metadata": {},
   "outputs": [],
   "source": [
    "data = pd.read_csv('../data/customer_product_sales.csv')"
   ]
  },
  {
   "cell_type": "code",
   "execution_count": 175,
   "metadata": {},
   "outputs": [
    {
     "data": {
      "text/html": [
       "<div>\n",
       "<style scoped>\n",
       "    .dataframe tbody tr th:only-of-type {\n",
       "        vertical-align: middle;\n",
       "    }\n",
       "\n",
       "    .dataframe tbody tr th {\n",
       "        vertical-align: top;\n",
       "    }\n",
       "\n",
       "    .dataframe thead th {\n",
       "        text-align: right;\n",
       "    }\n",
       "</style>\n",
       "<table border=\"1\" class=\"dataframe\">\n",
       "  <thead>\n",
       "    <tr style=\"text-align: right;\">\n",
       "      <th></th>\n",
       "      <th>CustomerID</th>\n",
       "      <th>FirstName</th>\n",
       "      <th>LastName</th>\n",
       "      <th>SalesID</th>\n",
       "      <th>ProductID</th>\n",
       "      <th>ProductName</th>\n",
       "      <th>Quantity</th>\n",
       "    </tr>\n",
       "  </thead>\n",
       "  <tbody>\n",
       "    <tr>\n",
       "      <th>0</th>\n",
       "      <td>61288</td>\n",
       "      <td>Rosa</td>\n",
       "      <td>Andersen</td>\n",
       "      <td>134196</td>\n",
       "      <td>229</td>\n",
       "      <td>Bread - Hot Dog Buns</td>\n",
       "      <td>16</td>\n",
       "    </tr>\n",
       "    <tr>\n",
       "      <th>1</th>\n",
       "      <td>77352</td>\n",
       "      <td>Myron</td>\n",
       "      <td>Murray</td>\n",
       "      <td>6167892</td>\n",
       "      <td>229</td>\n",
       "      <td>Bread - Hot Dog Buns</td>\n",
       "      <td>20</td>\n",
       "    </tr>\n",
       "    <tr>\n",
       "      <th>2</th>\n",
       "      <td>40094</td>\n",
       "      <td>Susan</td>\n",
       "      <td>Stevenson</td>\n",
       "      <td>5970885</td>\n",
       "      <td>229</td>\n",
       "      <td>Bread - Hot Dog Buns</td>\n",
       "      <td>11</td>\n",
       "    </tr>\n",
       "    <tr>\n",
       "      <th>3</th>\n",
       "      <td>23548</td>\n",
       "      <td>Tricia</td>\n",
       "      <td>Vincent</td>\n",
       "      <td>6426954</td>\n",
       "      <td>229</td>\n",
       "      <td>Bread - Hot Dog Buns</td>\n",
       "      <td>6</td>\n",
       "    </tr>\n",
       "    <tr>\n",
       "      <th>4</th>\n",
       "      <td>78981</td>\n",
       "      <td>Scott</td>\n",
       "      <td>Burch</td>\n",
       "      <td>819094</td>\n",
       "      <td>229</td>\n",
       "      <td>Bread - Hot Dog Buns</td>\n",
       "      <td>20</td>\n",
       "    </tr>\n",
       "  </tbody>\n",
       "</table>\n",
       "</div>"
      ],
      "text/plain": [
       "   CustomerID FirstName   LastName  SalesID  ProductID           ProductName  \\\n",
       "0       61288      Rosa   Andersen   134196        229  Bread - Hot Dog Buns   \n",
       "1       77352     Myron     Murray  6167892        229  Bread - Hot Dog Buns   \n",
       "2       40094     Susan  Stevenson  5970885        229  Bread - Hot Dog Buns   \n",
       "3       23548    Tricia    Vincent  6426954        229  Bread - Hot Dog Buns   \n",
       "4       78981     Scott      Burch   819094        229  Bread - Hot Dog Buns   \n",
       "\n",
       "   Quantity  \n",
       "0        16  \n",
       "1        20  \n",
       "2        11  \n",
       "3         6  \n",
       "4        20  "
      ]
     },
     "execution_count": 175,
     "metadata": {},
     "output_type": "execute_result"
    }
   ],
   "source": [
    "data.head()"
   ]
  },
  {
   "cell_type": "markdown",
   "metadata": {},
   "source": [
    "## Step 1: Create a data frame that contains the total quantity of each product purchased by each customer.\n",
    "\n",
    "You will need to group by CustomerID and ProductName and then sum the Quantity field."
   ]
  },
  {
   "cell_type": "code",
   "execution_count": 176,
   "metadata": {},
   "outputs": [],
   "source": [
    "df = data.groupby([\"CustomerID\",\"ProductName\"]).sum().Quantity\n",
    "df = pd.DataFrame(df)"
   ]
  },
  {
   "cell_type": "markdown",
   "metadata": {},
   "source": [
    "## Step 2: Use the `pivot_table` method to create a product by customer matrix.\n",
    "\n",
    "The rows of the matrix should represent the products, the columns should represent the customers, and the values should be the quantities of each product purchased by each customer. You will also need to replace nulls with zeros, which you can do using the `fillna` method."
   ]
  },
  {
   "cell_type": "code",
   "execution_count": 177,
   "metadata": {},
   "outputs": [],
   "source": [
    "tabla= pd.pivot_table(df, values='Quantity', index=['ProductName'], columns=['CustomerID'], fill_value=0)"
   ]
  },
  {
   "cell_type": "markdown",
   "metadata": {},
   "source": [
    "## Step 3: Create a customer similarity matrix using `squareform` and `pdist`. For the distance metric, choose \"euclidean.\""
   ]
  },
  {
   "cell_type": "code",
   "execution_count": 223,
   "metadata": {},
   "outputs": [],
   "source": [
    "s = squareform(pdist(tabla.T, 'euclidean'))"
   ]
  },
  {
   "cell_type": "markdown",
   "metadata": {},
   "source": [
    "## Step 4: Check your results by generating a list of the top 5 most similar customers for a specific CustomerID."
   ]
  },
  {
   "cell_type": "code",
   "execution_count": 179,
   "metadata": {},
   "outputs": [
    {
     "data": {
      "text/plain": [
       "CustomerID\n",
       "3317    0.084959\n",
       "1072    0.083972\n",
       "3535    0.082403\n",
       "1920    0.082100\n",
       "3909    0.080920\n",
       "Name: 200, dtype: float64"
      ]
     },
     "execution_count": 179,
     "metadata": {},
     "output_type": "execute_result"
    }
   ],
   "source": [
    "distances = pd.DataFrame(1/(1 + squareform(pdist(tabla.T, 'euclidean'))), \n",
    "                         index=tabla.columns, columns=tabla.columns)\n",
    "similarities = distances[200].sort_values(ascending=False)[1:].head()\n",
    "similarities"
   ]
  },
  {
   "cell_type": "markdown",
   "metadata": {},
   "source": [
    "## Step 5: From the data frame you created in Step 1, select the records for the list of similar CustomerIDs you obtained in Step 4."
   ]
  },
  {
   "cell_type": "code",
   "execution_count": 180,
   "metadata": {},
   "outputs": [],
   "source": [
    "dfs = df.loc[similarities.index]"
   ]
  },
  {
   "cell_type": "markdown",
   "metadata": {},
   "source": [
    "## Step 6: Aggregate those customer purchase records by ProductName, sum the Quantity field, and then rank them in descending order by quantity.\n",
    "\n",
    "This will give you the total number of each product purchased by the 5 most similar customers to the customer you selected in order from most purchased to least."
   ]
  },
  {
   "cell_type": "code",
   "execution_count": 220,
   "metadata": {},
   "outputs": [],
   "source": [
    "step6 = dfs.groupby([\"ProductName\"]).sum().Quantity.sort_values(ascending=False)\n",
    "step6 = pd.DataFrame(step6)\n"
   ]
  },
  {
   "cell_type": "markdown",
   "metadata": {},
   "source": [
    "## Step 7: Filter the list for products that the chosen customer has not yet purchased and then recommend the top 5 products with the highest quantities that are left.\n",
    "\n",
    "- Merge the ranked products data frame with the customer product matrix on the ProductName field.\n",
    "- Filter for records where the chosen customer has not purchased the product.\n",
    "- Show the top 5 results."
   ]
  },
  {
   "cell_type": "code",
   "execution_count": 219,
   "metadata": {},
   "outputs": [],
   "source": [
    "step7 = step6[~step6.index.isin(df.loc[200].index)]"
   ]
  },
  {
   "cell_type": "markdown",
   "metadata": {},
   "source": [
    "## Step 8: Now that we have generated product recommendations for a single user, put the pieces together and iterate over a list of all CustomerIDs.\n",
    "\n",
    "- Create an empty dictionary that will hold the recommendations for all customers.\n",
    "- Create a list of unique CustomerIDs to iterate over.\n",
    "- Iterate over the customer list performing steps 4 through 7 for each and appending the results of each iteration to the dictionary you created."
   ]
  },
  {
   "cell_type": "code",
   "execution_count": 196,
   "metadata": {},
   "outputs": [],
   "source": [
    "dic = {}\n",
    "lista = list(data.CustomerID)\n",
    "\n",
    "for y in lista:\n",
    "    similarities = distances[y].sort_values(ascending=False)[1:6]\n",
    "    dfs = df.loc[similarities.index]\n",
    "    step6 = dfs.groupby([\"ProductName\"]).sum().Quantity.sort_values(ascending=False)\n",
    "    step7 = step6[~step6.index.isin(df.loc[y].index)].head()\n",
    "    dic[y] = step7.to_dict()\n",
    "    \n",
    "for y in dic:\n",
    "    dic[y] = [x for x in dic[y]]\n",
    " "
   ]
  },
  {
   "cell_type": "markdown",
   "metadata": {},
   "source": [
    "##  Step 9: Store the results in a Pandas data frame. The data frame should a column for Customer ID and then a column for each of the 5 product recommendations for each customer."
   ]
  },
  {
   "cell_type": "code",
   "execution_count": 217,
   "metadata": {
    "scrolled": true
   },
   "outputs": [
    {
     "data": {
      "text/html": [
       "<div>\n",
       "<style scoped>\n",
       "    .dataframe tbody tr th:only-of-type {\n",
       "        vertical-align: middle;\n",
       "    }\n",
       "\n",
       "    .dataframe tbody tr th {\n",
       "        vertical-align: top;\n",
       "    }\n",
       "\n",
       "    .dataframe thead th {\n",
       "        text-align: right;\n",
       "    }\n",
       "</style>\n",
       "<table border=\"1\" class=\"dataframe\">\n",
       "  <thead>\n",
       "    <tr style=\"text-align: right;\">\n",
       "      <th></th>\n",
       "      <th>Producto 1</th>\n",
       "      <th>Producto 2</th>\n",
       "      <th>Producto 3</th>\n",
       "      <th>Producto 4</th>\n",
       "      <th>Producto 5</th>\n",
       "    </tr>\n",
       "  </thead>\n",
       "  <tbody>\n",
       "    <tr>\n",
       "      <th>61288</th>\n",
       "      <td>Jagermeister</td>\n",
       "      <td>Chicken - Soup Base</td>\n",
       "      <td>Lime Cordial - Roses</td>\n",
       "      <td>Macaroons - Two Bite Choc</td>\n",
       "      <td>Water - Mineral, Natural</td>\n",
       "    </tr>\n",
       "    <tr>\n",
       "      <th>77352</th>\n",
       "      <td>Wine - Valpolicella Masi</td>\n",
       "      <td>Tahini Paste</td>\n",
       "      <td>Tuna - Salad Premix</td>\n",
       "      <td>Chicken - Soup Base</td>\n",
       "      <td>Isomalt</td>\n",
       "    </tr>\n",
       "    <tr>\n",
       "      <th>40094</th>\n",
       "      <td>Bread - Italian Corn Meal Poly</td>\n",
       "      <td>Puree - Mocha</td>\n",
       "      <td>Tuna - Salad Premix</td>\n",
       "      <td>Oregano - Dry, Rubbed</td>\n",
       "      <td>Halibut - Steaks</td>\n",
       "    </tr>\n",
       "    <tr>\n",
       "      <th>23548</th>\n",
       "      <td>Squid - Tubes / Tenticles 10/20</td>\n",
       "      <td>Flavouring - Orange</td>\n",
       "      <td>Bread - Raisin Walnut Oval</td>\n",
       "      <td>Sprouts - Baby Pea Tendrils</td>\n",
       "      <td>Banana Turning</td>\n",
       "    </tr>\n",
       "    <tr>\n",
       "      <th>78981</th>\n",
       "      <td>Vanilla Beans</td>\n",
       "      <td>Lettuce - Frisee</td>\n",
       "      <td>Yogurt - Blueberry, 175 Gr</td>\n",
       "      <td>Cinnamon Buns Sticky</td>\n",
       "      <td>Beef - Inside Round</td>\n",
       "    </tr>\n",
       "    <tr>\n",
       "      <th>83106</th>\n",
       "      <td>Cocoa Butter</td>\n",
       "      <td>Cheese - Boursin, Garlic / Herbs</td>\n",
       "      <td>Garlic - Peeled</td>\n",
       "      <td>Cheese - Mix</td>\n",
       "      <td>Sauce - Hollandaise</td>\n",
       "    </tr>\n",
       "    <tr>\n",
       "      <th>11253</th>\n",
       "      <td>Juice - Lime</td>\n",
       "      <td>Pomello</td>\n",
       "      <td>Tomatoes Tear Drop</td>\n",
       "      <td>Potatoes - Instant, Mashed</td>\n",
       "      <td>Soup - Campbells Tomato Ravioli</td>\n",
       "    </tr>\n",
       "    <tr>\n",
       "      <th>35107</th>\n",
       "      <td>Bandage - Flexible Neon</td>\n",
       "      <td>Bread - French Baquette</td>\n",
       "      <td>Wine - Hardys Bankside Shiraz</td>\n",
       "      <td>Onion Powder</td>\n",
       "      <td>Lentils - Red, Dry</td>\n",
       "    </tr>\n",
       "    <tr>\n",
       "      <th>15088</th>\n",
       "      <td>Soupfoamcont12oz 112con</td>\n",
       "      <td>Soup Knorr Chili With Beans</td>\n",
       "      <td>Veal - Sweetbread</td>\n",
       "      <td>Wine - Fume Blanc Fetzer</td>\n",
       "      <td>Beef - Texas Style Burger</td>\n",
       "    </tr>\n",
       "    <tr>\n",
       "      <th>26031</th>\n",
       "      <td>Cheese - Mozzarella</td>\n",
       "      <td>Lemonade - Natural, 591 Ml</td>\n",
       "      <td>Bananas</td>\n",
       "      <td>Quiche Assorted</td>\n",
       "      <td>Soup Knorr Chili With Beans</td>\n",
       "    </tr>\n",
       "  </tbody>\n",
       "</table>\n",
       "</div>"
      ],
      "text/plain": [
       "                            Producto 1                        Producto 2  \\\n",
       "61288                     Jagermeister               Chicken - Soup Base   \n",
       "77352         Wine - Valpolicella Masi                      Tahini Paste   \n",
       "40094   Bread - Italian Corn Meal Poly                     Puree - Mocha   \n",
       "23548  Squid - Tubes / Tenticles 10/20               Flavouring - Orange   \n",
       "78981                    Vanilla Beans                  Lettuce - Frisee   \n",
       "83106                     Cocoa Butter  Cheese - Boursin, Garlic / Herbs   \n",
       "11253                     Juice - Lime                           Pomello   \n",
       "35107          Bandage - Flexible Neon           Bread - French Baquette   \n",
       "15088          Soupfoamcont12oz 112con       Soup Knorr Chili With Beans   \n",
       "26031              Cheese - Mozzarella        Lemonade - Natural, 591 Ml   \n",
       "\n",
       "                          Producto 3                   Producto 4  \\\n",
       "61288           Lime Cordial - Roses    Macaroons - Two Bite Choc   \n",
       "77352            Tuna - Salad Premix          Chicken - Soup Base   \n",
       "40094            Tuna - Salad Premix        Oregano - Dry, Rubbed   \n",
       "23548     Bread - Raisin Walnut Oval  Sprouts - Baby Pea Tendrils   \n",
       "78981     Yogurt - Blueberry, 175 Gr         Cinnamon Buns Sticky   \n",
       "83106                Garlic - Peeled                 Cheese - Mix   \n",
       "11253             Tomatoes Tear Drop   Potatoes - Instant, Mashed   \n",
       "35107  Wine - Hardys Bankside Shiraz                 Onion Powder   \n",
       "15088              Veal - Sweetbread     Wine - Fume Blanc Fetzer   \n",
       "26031                        Bananas              Quiche Assorted   \n",
       "\n",
       "                            Producto 5  \n",
       "61288         Water - Mineral, Natural  \n",
       "77352                          Isomalt  \n",
       "40094                 Halibut - Steaks  \n",
       "23548                   Banana Turning  \n",
       "78981              Beef - Inside Round  \n",
       "83106              Sauce - Hollandaise  \n",
       "11253  Soup - Campbells Tomato Ravioli  \n",
       "35107               Lentils - Red, Dry  \n",
       "15088        Beef - Texas Style Burger  \n",
       "26031      Soup Knorr Chili With Beans  "
      ]
     },
     "execution_count": 217,
     "metadata": {},
     "output_type": "execute_result"
    }
   ],
   "source": [
    "reco = pd.DataFrame(dic).T\n",
    "reco = reco.rename(index=str, columns={0:\"Producto 1\",1:\"Producto 2\",2:\"Producto 3\",3:\"Producto 4\",4:\"Producto 5\"})\n",
    "reco.head(10)\n"
   ]
  },
  {
   "cell_type": "markdown",
   "metadata": {},
   "source": [
    "## Step 10: Change the distance metric used in Step 3 to something other than euclidean (correlation, cityblock, consine, jaccard, etc.). Regenerate the recommendations for all customers and note the differences."
   ]
  },
  {
   "cell_type": "code",
   "execution_count": 218,
   "metadata": {},
   "outputs": [
    {
     "data": {
      "text/html": [
       "<div>\n",
       "<style scoped>\n",
       "    .dataframe tbody tr th:only-of-type {\n",
       "        vertical-align: middle;\n",
       "    }\n",
       "\n",
       "    .dataframe tbody tr th {\n",
       "        vertical-align: top;\n",
       "    }\n",
       "\n",
       "    .dataframe thead th {\n",
       "        text-align: right;\n",
       "    }\n",
       "</style>\n",
       "<table border=\"1\" class=\"dataframe\">\n",
       "  <thead>\n",
       "    <tr style=\"text-align: right;\">\n",
       "      <th></th>\n",
       "      <th>Producto 1</th>\n",
       "      <th>Producto 2</th>\n",
       "      <th>Producto 3</th>\n",
       "      <th>Producto 4</th>\n",
       "      <th>Producto 5</th>\n",
       "    </tr>\n",
       "  </thead>\n",
       "  <tbody>\n",
       "    <tr>\n",
       "      <th>61288</th>\n",
       "      <td>Jagermeister</td>\n",
       "      <td>Wine - Two Oceans Cabernet</td>\n",
       "      <td>Tofu - Firm</td>\n",
       "      <td>Appetizer - Sausage Rolls</td>\n",
       "      <td>Dc - Frozen Momji</td>\n",
       "    </tr>\n",
       "    <tr>\n",
       "      <th>77352</th>\n",
       "      <td>Fondant - Icing</td>\n",
       "      <td>Grenadine</td>\n",
       "      <td>Mangoes</td>\n",
       "      <td>Flour - Whole Wheat</td>\n",
       "      <td>Lettuce - Frisee</td>\n",
       "    </tr>\n",
       "    <tr>\n",
       "      <th>40094</th>\n",
       "      <td>Truffle Cups - Brown</td>\n",
       "      <td>Bread - Roll, Soft White Round</td>\n",
       "      <td>Juice - V8 Splash</td>\n",
       "      <td>Veal - Brisket, Provimi,bnls</td>\n",
       "      <td>Anchovy Paste - 56 G Tube</td>\n",
       "    </tr>\n",
       "    <tr>\n",
       "      <th>23548</th>\n",
       "      <td>Olives - Stuffed</td>\n",
       "      <td>Wine - Charddonnay Errazuriz</td>\n",
       "      <td>Soup - Campbells Tomato Ravioli</td>\n",
       "      <td>Assorted Desserts</td>\n",
       "      <td>Juice - Orange</td>\n",
       "    </tr>\n",
       "    <tr>\n",
       "      <th>78981</th>\n",
       "      <td>Tart Shells - Sweet, 4</td>\n",
       "      <td>Artichokes - Jerusalem</td>\n",
       "      <td>Sprouts - Baby Pea Tendrils</td>\n",
       "      <td>Chocolate - Dark</td>\n",
       "      <td>Appetizer - Mini Egg Roll, Shrimp</td>\n",
       "    </tr>\n",
       "    <tr>\n",
       "      <th>83106</th>\n",
       "      <td>Pastry - Cheese Baked Scones</td>\n",
       "      <td>Bouq All Italian - Primerba</td>\n",
       "      <td>Onions - Vidalia</td>\n",
       "      <td>Bread - Italian Roll With Herbs</td>\n",
       "      <td>Turnip - White, Organic</td>\n",
       "    </tr>\n",
       "    <tr>\n",
       "      <th>11253</th>\n",
       "      <td>Sauce - Demi Glace</td>\n",
       "      <td>Nut - Chestnuts, Whole</td>\n",
       "      <td>Beef - Tenderlion, Center Cut</td>\n",
       "      <td>Mushroom - Trumpet, Dry</td>\n",
       "      <td>Soup - Canadian Pea, Dry Mix</td>\n",
       "    </tr>\n",
       "    <tr>\n",
       "      <th>35107</th>\n",
       "      <td>Fond - Neutral</td>\n",
       "      <td>Snapple Lemon Tea</td>\n",
       "      <td>Truffle Cups - Brown</td>\n",
       "      <td>Veal - Brisket, Provimi,bnls</td>\n",
       "      <td>Cheese Cloth No 100</td>\n",
       "    </tr>\n",
       "    <tr>\n",
       "      <th>15088</th>\n",
       "      <td>Browning Caramel Glace</td>\n",
       "      <td>Vaccum Bag 10x13</td>\n",
       "      <td>Pastry - Choclate Baked</td>\n",
       "      <td>Wine - Fume Blanc Fetzer</td>\n",
       "      <td>Skirt - 29 Foot</td>\n",
       "    </tr>\n",
       "    <tr>\n",
       "      <th>26031</th>\n",
       "      <td>Spinach - Baby</td>\n",
       "      <td>Foam Cup 6 Oz</td>\n",
       "      <td>General Purpose Trigger</td>\n",
       "      <td>Banana Turning</td>\n",
       "      <td>Smirnoff Green Apple Twist</td>\n",
       "    </tr>\n",
       "  </tbody>\n",
       "</table>\n",
       "</div>"
      ],
      "text/plain": [
       "                         Producto 1                      Producto 2  \\\n",
       "61288                  Jagermeister      Wine - Two Oceans Cabernet   \n",
       "77352               Fondant - Icing                       Grenadine   \n",
       "40094          Truffle Cups - Brown  Bread - Roll, Soft White Round   \n",
       "23548              Olives - Stuffed    Wine - Charddonnay Errazuriz   \n",
       "78981        Tart Shells - Sweet, 4          Artichokes - Jerusalem   \n",
       "83106  Pastry - Cheese Baked Scones     Bouq All Italian - Primerba   \n",
       "11253            Sauce - Demi Glace          Nut - Chestnuts, Whole   \n",
       "35107                Fond - Neutral               Snapple Lemon Tea   \n",
       "15088        Browning Caramel Glace                Vaccum Bag 10x13   \n",
       "26031                Spinach - Baby                   Foam Cup 6 Oz   \n",
       "\n",
       "                            Producto 3                       Producto 4  \\\n",
       "61288                      Tofu - Firm        Appetizer - Sausage Rolls   \n",
       "77352                          Mangoes              Flour - Whole Wheat   \n",
       "40094                Juice - V8 Splash     Veal - Brisket, Provimi,bnls   \n",
       "23548  Soup - Campbells Tomato Ravioli                Assorted Desserts   \n",
       "78981      Sprouts - Baby Pea Tendrils                 Chocolate - Dark   \n",
       "83106                 Onions - Vidalia  Bread - Italian Roll With Herbs   \n",
       "11253    Beef - Tenderlion, Center Cut          Mushroom - Trumpet, Dry   \n",
       "35107             Truffle Cups - Brown     Veal - Brisket, Provimi,bnls   \n",
       "15088          Pastry - Choclate Baked         Wine - Fume Blanc Fetzer   \n",
       "26031          General Purpose Trigger                   Banana Turning   \n",
       "\n",
       "                              Producto 5  \n",
       "61288                  Dc - Frozen Momji  \n",
       "77352                   Lettuce - Frisee  \n",
       "40094          Anchovy Paste - 56 G Tube  \n",
       "23548                     Juice - Orange  \n",
       "78981  Appetizer - Mini Egg Roll, Shrimp  \n",
       "83106            Turnip - White, Organic  \n",
       "11253       Soup - Canadian Pea, Dry Mix  \n",
       "35107                Cheese Cloth No 100  \n",
       "15088                    Skirt - 29 Foot  \n",
       "26031         Smirnoff Green Apple Twist  "
      ]
     },
     "execution_count": 218,
     "metadata": {},
     "output_type": "execute_result"
    }
   ],
   "source": [
    "distances = pd.DataFrame(1/(1 + squareform(pdist(tabla.T, 'correlation'))), \n",
    "                         index=tabla.columns, columns=tabla.columns)\n",
    "\n",
    "dic = {}\n",
    "lista = list(data.CustomerID)\n",
    "\n",
    "for y in lista:\n",
    "    similarities = distances[y].sort_values(ascending=False)[1:6]\n",
    "    dfs = df.loc[similarities.index]\n",
    "    step6 = dfs.groupby([\"ProductName\"]).sum().Quantity.sort_values(ascending=False)\n",
    "    step7 = step6[~step6.index.isin(df.loc[y].index)].head()\n",
    "    dic[y] = step7.to_dict()\n",
    "    \n",
    "for y in dic:\n",
    "    dic[y] = [x for x in dic[y]]\n",
    "\n",
    "reco = pd.DataFrame(dic).T\n",
    "reco = reco.rename(index=str, columns={0:\"Producto 1\",1:\"Producto 2\",2:\"Producto 3\",3:\"Producto 4\",4:\"Producto 5\"})\n",
    "reco.head(10)"
   ]
  },
  {
   "cell_type": "code",
   "execution_count": null,
   "metadata": {},
   "outputs": [],
   "source": []
  }
 ],
 "metadata": {
  "kernelspec": {
   "display_name": "Python 3",
   "language": "python",
   "name": "python3"
  },
  "language_info": {
   "codemirror_mode": {
    "name": "ipython",
    "version": 3
   },
   "file_extension": ".py",
   "mimetype": "text/x-python",
   "name": "python",
   "nbconvert_exporter": "python",
   "pygments_lexer": "ipython3",
   "version": "3.7.2"
  }
 },
 "nbformat": 4,
 "nbformat_minor": 2
}
